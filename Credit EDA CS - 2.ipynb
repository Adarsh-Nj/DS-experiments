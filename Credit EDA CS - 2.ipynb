{
 "cells": [
  {
   "cell_type": "markdown",
   "metadata": {},
   "source": [
    "\n",
    "# Credit EDA Case Study - part II\n",
    "\n",
    "\n",
    "\n",
    "### Business Objectives\n",
    " \n",
    "This case study aims to identify patterns which indicate if a client has difficulty paying their installments which  may be used for taking actions such as denying the loan, reducing the amount of loan, lending (to risky applicants) at a higher interest rate, etc. This will ensure that the consumers capable of repaying the loan are not rejected. Identification of such applicants using EDA is the aim of this case study.\n",
    " \n",
    "\n",
    "#### Analysis is divided into four parts for each data set provided ('previous_application.csv'):\n",
    "\n",
    "  1. Data understanding\n",
    "  2. Data cleaning\n",
    "  3. Data Analysis\n",
    "  4. Observations for this data set\n",
    "  5. Final inferences on driving factors (or driver variables) behind loan default.\n",
    "  \n",
    "#### Assumptions to consider TARGET variable for this data set:\n",
    "\n",
    "  1. We will consider **NAME_CONTRACT_STATUS** column as our TARGET variable and by using the values **\"Accepted\" and \"Rejected\"** we shall divide our data frames for furthur analysis."
   ]
  },
  {
   "cell_type": "code",
   "execution_count": 40,
   "metadata": {},
   "outputs": [],
   "source": [
    "import numpy as np\n",
    "import pandas as pd\n",
    "\n",
    "# import visualization libraries\n",
    "import matplotlib.pyplot as plt\n",
    "%matplotlib inline\n",
    "\n",
    "import seaborn as sns"
   ]
  },
  {
   "cell_type": "markdown",
   "metadata": {},
   "source": [
    "#### Anlysis on second data set.\n",
    "\n",
    "We shall identify the attributes which impact whether or not client's previous application was approved or rejected and will use some of the inferences to finally produce combined observations among first and this data set."
   ]
  },
  {
   "cell_type": "code",
   "execution_count": 41,
   "metadata": {},
   "outputs": [
    {
     "data": {
      "text/html": [
       "<div>\n",
       "<style scoped>\n",
       "    .dataframe tbody tr th:only-of-type {\n",
       "        vertical-align: middle;\n",
       "    }\n",
       "\n",
       "    .dataframe tbody tr th {\n",
       "        vertical-align: top;\n",
       "    }\n",
       "\n",
       "    .dataframe thead th {\n",
       "        text-align: right;\n",
       "    }\n",
       "</style>\n",
       "<table border=\"1\" class=\"dataframe\">\n",
       "  <thead>\n",
       "    <tr style=\"text-align: right;\">\n",
       "      <th></th>\n",
       "      <th>SK_ID_PREV</th>\n",
       "      <th>SK_ID_CURR</th>\n",
       "      <th>NAME_CONTRACT_TYPE</th>\n",
       "      <th>AMT_ANNUITY</th>\n",
       "      <th>AMT_APPLICATION</th>\n",
       "      <th>AMT_CREDIT</th>\n",
       "      <th>AMT_DOWN_PAYMENT</th>\n",
       "      <th>AMT_GOODS_PRICE</th>\n",
       "      <th>WEEKDAY_APPR_PROCESS_START</th>\n",
       "      <th>HOUR_APPR_PROCESS_START</th>\n",
       "      <th>...</th>\n",
       "      <th>NAME_SELLER_INDUSTRY</th>\n",
       "      <th>CNT_PAYMENT</th>\n",
       "      <th>NAME_YIELD_GROUP</th>\n",
       "      <th>PRODUCT_COMBINATION</th>\n",
       "      <th>DAYS_FIRST_DRAWING</th>\n",
       "      <th>DAYS_FIRST_DUE</th>\n",
       "      <th>DAYS_LAST_DUE_1ST_VERSION</th>\n",
       "      <th>DAYS_LAST_DUE</th>\n",
       "      <th>DAYS_TERMINATION</th>\n",
       "      <th>NFLAG_INSURED_ON_APPROVAL</th>\n",
       "    </tr>\n",
       "  </thead>\n",
       "  <tbody>\n",
       "    <tr>\n",
       "      <th>0</th>\n",
       "      <td>2030495</td>\n",
       "      <td>271877</td>\n",
       "      <td>Consumer loans</td>\n",
       "      <td>1730.430</td>\n",
       "      <td>17145.0</td>\n",
       "      <td>17145.0</td>\n",
       "      <td>0.0</td>\n",
       "      <td>17145.0</td>\n",
       "      <td>SATURDAY</td>\n",
       "      <td>15</td>\n",
       "      <td>...</td>\n",
       "      <td>Connectivity</td>\n",
       "      <td>12.0</td>\n",
       "      <td>middle</td>\n",
       "      <td>POS mobile with interest</td>\n",
       "      <td>365243.0</td>\n",
       "      <td>-42.0</td>\n",
       "      <td>300.0</td>\n",
       "      <td>-42.0</td>\n",
       "      <td>-37.0</td>\n",
       "      <td>0.0</td>\n",
       "    </tr>\n",
       "    <tr>\n",
       "      <th>1</th>\n",
       "      <td>2802425</td>\n",
       "      <td>108129</td>\n",
       "      <td>Cash loans</td>\n",
       "      <td>25188.615</td>\n",
       "      <td>607500.0</td>\n",
       "      <td>679671.0</td>\n",
       "      <td>NaN</td>\n",
       "      <td>607500.0</td>\n",
       "      <td>THURSDAY</td>\n",
       "      <td>11</td>\n",
       "      <td>...</td>\n",
       "      <td>XNA</td>\n",
       "      <td>36.0</td>\n",
       "      <td>low_action</td>\n",
       "      <td>Cash X-Sell: low</td>\n",
       "      <td>365243.0</td>\n",
       "      <td>-134.0</td>\n",
       "      <td>916.0</td>\n",
       "      <td>365243.0</td>\n",
       "      <td>365243.0</td>\n",
       "      <td>1.0</td>\n",
       "    </tr>\n",
       "    <tr>\n",
       "      <th>2</th>\n",
       "      <td>2523466</td>\n",
       "      <td>122040</td>\n",
       "      <td>Cash loans</td>\n",
       "      <td>15060.735</td>\n",
       "      <td>112500.0</td>\n",
       "      <td>136444.5</td>\n",
       "      <td>NaN</td>\n",
       "      <td>112500.0</td>\n",
       "      <td>TUESDAY</td>\n",
       "      <td>11</td>\n",
       "      <td>...</td>\n",
       "      <td>XNA</td>\n",
       "      <td>12.0</td>\n",
       "      <td>high</td>\n",
       "      <td>Cash X-Sell: high</td>\n",
       "      <td>365243.0</td>\n",
       "      <td>-271.0</td>\n",
       "      <td>59.0</td>\n",
       "      <td>365243.0</td>\n",
       "      <td>365243.0</td>\n",
       "      <td>1.0</td>\n",
       "    </tr>\n",
       "    <tr>\n",
       "      <th>3</th>\n",
       "      <td>2819243</td>\n",
       "      <td>176158</td>\n",
       "      <td>Cash loans</td>\n",
       "      <td>47041.335</td>\n",
       "      <td>450000.0</td>\n",
       "      <td>470790.0</td>\n",
       "      <td>NaN</td>\n",
       "      <td>450000.0</td>\n",
       "      <td>MONDAY</td>\n",
       "      <td>7</td>\n",
       "      <td>...</td>\n",
       "      <td>XNA</td>\n",
       "      <td>12.0</td>\n",
       "      <td>middle</td>\n",
       "      <td>Cash X-Sell: middle</td>\n",
       "      <td>365243.0</td>\n",
       "      <td>-482.0</td>\n",
       "      <td>-152.0</td>\n",
       "      <td>-182.0</td>\n",
       "      <td>-177.0</td>\n",
       "      <td>1.0</td>\n",
       "    </tr>\n",
       "    <tr>\n",
       "      <th>4</th>\n",
       "      <td>1784265</td>\n",
       "      <td>202054</td>\n",
       "      <td>Cash loans</td>\n",
       "      <td>31924.395</td>\n",
       "      <td>337500.0</td>\n",
       "      <td>404055.0</td>\n",
       "      <td>NaN</td>\n",
       "      <td>337500.0</td>\n",
       "      <td>THURSDAY</td>\n",
       "      <td>9</td>\n",
       "      <td>...</td>\n",
       "      <td>XNA</td>\n",
       "      <td>24.0</td>\n",
       "      <td>high</td>\n",
       "      <td>Cash Street: high</td>\n",
       "      <td>NaN</td>\n",
       "      <td>NaN</td>\n",
       "      <td>NaN</td>\n",
       "      <td>NaN</td>\n",
       "      <td>NaN</td>\n",
       "      <td>NaN</td>\n",
       "    </tr>\n",
       "  </tbody>\n",
       "</table>\n",
       "<p>5 rows × 37 columns</p>\n",
       "</div>"
      ],
      "text/plain": [
       "   SK_ID_PREV  SK_ID_CURR NAME_CONTRACT_TYPE  AMT_ANNUITY  AMT_APPLICATION  \\\n",
       "0     2030495      271877     Consumer loans     1730.430          17145.0   \n",
       "1     2802425      108129         Cash loans    25188.615         607500.0   \n",
       "2     2523466      122040         Cash loans    15060.735         112500.0   \n",
       "3     2819243      176158         Cash loans    47041.335         450000.0   \n",
       "4     1784265      202054         Cash loans    31924.395         337500.0   \n",
       "\n",
       "   AMT_CREDIT  AMT_DOWN_PAYMENT  AMT_GOODS_PRICE WEEKDAY_APPR_PROCESS_START  \\\n",
       "0     17145.0               0.0          17145.0                   SATURDAY   \n",
       "1    679671.0               NaN         607500.0                   THURSDAY   \n",
       "2    136444.5               NaN         112500.0                    TUESDAY   \n",
       "3    470790.0               NaN         450000.0                     MONDAY   \n",
       "4    404055.0               NaN         337500.0                   THURSDAY   \n",
       "\n",
       "   HOUR_APPR_PROCESS_START            ...            NAME_SELLER_INDUSTRY  \\\n",
       "0                       15            ...                    Connectivity   \n",
       "1                       11            ...                             XNA   \n",
       "2                       11            ...                             XNA   \n",
       "3                        7            ...                             XNA   \n",
       "4                        9            ...                             XNA   \n",
       "\n",
       "   CNT_PAYMENT  NAME_YIELD_GROUP       PRODUCT_COMBINATION  \\\n",
       "0         12.0            middle  POS mobile with interest   \n",
       "1         36.0        low_action          Cash X-Sell: low   \n",
       "2         12.0              high         Cash X-Sell: high   \n",
       "3         12.0            middle       Cash X-Sell: middle   \n",
       "4         24.0              high         Cash Street: high   \n",
       "\n",
       "   DAYS_FIRST_DRAWING DAYS_FIRST_DUE DAYS_LAST_DUE_1ST_VERSION  DAYS_LAST_DUE  \\\n",
       "0            365243.0          -42.0                     300.0          -42.0   \n",
       "1            365243.0         -134.0                     916.0       365243.0   \n",
       "2            365243.0         -271.0                      59.0       365243.0   \n",
       "3            365243.0         -482.0                    -152.0         -182.0   \n",
       "4                 NaN            NaN                       NaN            NaN   \n",
       "\n",
       "  DAYS_TERMINATION NFLAG_INSURED_ON_APPROVAL  \n",
       "0            -37.0                       0.0  \n",
       "1         365243.0                       1.0  \n",
       "2         365243.0                       1.0  \n",
       "3           -177.0                       1.0  \n",
       "4              NaN                       NaN  \n",
       "\n",
       "[5 rows x 37 columns]"
      ]
     },
     "execution_count": 41,
     "metadata": {},
     "output_type": "execute_result"
    }
   ],
   "source": [
    "\n",
    "# Read application data csv file.\n",
    "\n",
    "df = pd.read_csv(\"previous_application.csv\", low_memory=False)\n",
    "df.head()"
   ]
  },
  {
   "cell_type": "markdown",
   "metadata": {},
   "source": [
    "## Data understanding for application_data.csv"
   ]
  },
  {
   "cell_type": "code",
   "execution_count": 42,
   "metadata": {},
   "outputs": [
    {
     "name": "stdout",
     "output_type": "stream",
     "text": [
      "(1670214, 37)\n"
     ]
    },
    {
     "data": {
      "text/plain": [
       "(100000, 37)"
      ]
     },
     "execution_count": 42,
     "metadata": {},
     "output_type": "execute_result"
    }
   ],
   "source": [
    "# Explore shape of data frame - approx 30k rows and 122 columns.\n",
    "\n",
    "print(df.shape)\n",
    "\n",
    "# Since data is too huge (1670214, 37), we shall take sample of data for our analysis - 1 lakh recrods.\n",
    "df = df[:100000]\n",
    "\n",
    "df.shape"
   ]
  },
  {
   "cell_type": "code",
   "execution_count": 43,
   "metadata": {},
   "outputs": [
    {
     "name": "stdout",
     "output_type": "stream",
     "text": [
      "<class 'pandas.core.frame.DataFrame'>\n",
      "RangeIndex: 100000 entries, 0 to 99999\n",
      "Data columns (total 37 columns):\n",
      "SK_ID_PREV                     100000 non-null int64\n",
      "SK_ID_CURR                     100000 non-null int64\n",
      "NAME_CONTRACT_TYPE             100000 non-null object\n",
      "AMT_ANNUITY                    78867 non-null float64\n",
      "AMT_APPLICATION                100000 non-null float64\n",
      "AMT_CREDIT                     100000 non-null float64\n",
      "AMT_DOWN_PAYMENT               49416 non-null float64\n",
      "AMT_GOODS_PRICE                78400 non-null float64\n",
      "WEEKDAY_APPR_PROCESS_START     100000 non-null object\n",
      "HOUR_APPR_PROCESS_START        100000 non-null int64\n",
      "FLAG_LAST_APPL_PER_CONTRACT    100000 non-null object\n",
      "NFLAG_LAST_APPL_IN_DAY         100000 non-null int64\n",
      "RATE_DOWN_PAYMENT              49416 non-null float64\n",
      "RATE_INTEREST_PRIMARY          341 non-null float64\n",
      "RATE_INTEREST_PRIVILEGED       341 non-null float64\n",
      "NAME_CASH_LOAN_PURPOSE         100000 non-null object\n",
      "NAME_CONTRACT_STATUS           100000 non-null object\n",
      "DAYS_DECISION                  100000 non-null int64\n",
      "NAME_PAYMENT_TYPE              100000 non-null object\n",
      "CODE_REJECT_REASON             100000 non-null object\n",
      "NAME_TYPE_SUITE                51516 non-null object\n",
      "NAME_CLIENT_TYPE               100000 non-null object\n",
      "NAME_GOODS_CATEGORY            100000 non-null object\n",
      "NAME_PORTFOLIO                 100000 non-null object\n",
      "NAME_PRODUCT_TYPE              100000 non-null object\n",
      "CHANNEL_TYPE                   100000 non-null object\n",
      "SELLERPLACE_AREA               100000 non-null int64\n",
      "NAME_SELLER_INDUSTRY           100000 non-null object\n",
      "CNT_PAYMENT                    78867 non-null float64\n",
      "NAME_YIELD_GROUP               100000 non-null object\n",
      "PRODUCT_COMBINATION            99983 non-null object\n",
      "DAYS_FIRST_DRAWING             61880 non-null float64\n",
      "DAYS_FIRST_DUE                 61880 non-null float64\n",
      "DAYS_LAST_DUE_1ST_VERSION      61880 non-null float64\n",
      "DAYS_LAST_DUE                  61880 non-null float64\n",
      "DAYS_TERMINATION               61880 non-null float64\n",
      "NFLAG_INSURED_ON_APPROVAL      61880 non-null float64\n",
      "dtypes: float64(15), int64(6), object(16)\n",
      "memory usage: 28.2+ MB\n"
     ]
    }
   ],
   "source": [
    "# Explore info of Data.\n",
    "\n",
    "df.info()"
   ]
  },
  {
   "cell_type": "code",
   "execution_count": 44,
   "metadata": {},
   "outputs": [
    {
     "data": {
      "text/html": [
       "<div>\n",
       "<style scoped>\n",
       "    .dataframe tbody tr th:only-of-type {\n",
       "        vertical-align: middle;\n",
       "    }\n",
       "\n",
       "    .dataframe tbody tr th {\n",
       "        vertical-align: top;\n",
       "    }\n",
       "\n",
       "    .dataframe thead th {\n",
       "        text-align: right;\n",
       "    }\n",
       "</style>\n",
       "<table border=\"1\" class=\"dataframe\">\n",
       "  <thead>\n",
       "    <tr style=\"text-align: right;\">\n",
       "      <th></th>\n",
       "      <th>SK_ID_PREV</th>\n",
       "      <th>SK_ID_CURR</th>\n",
       "      <th>AMT_ANNUITY</th>\n",
       "      <th>AMT_APPLICATION</th>\n",
       "      <th>AMT_CREDIT</th>\n",
       "      <th>AMT_DOWN_PAYMENT</th>\n",
       "      <th>AMT_GOODS_PRICE</th>\n",
       "      <th>HOUR_APPR_PROCESS_START</th>\n",
       "      <th>NFLAG_LAST_APPL_IN_DAY</th>\n",
       "      <th>RATE_DOWN_PAYMENT</th>\n",
       "      <th>...</th>\n",
       "      <th>RATE_INTEREST_PRIVILEGED</th>\n",
       "      <th>DAYS_DECISION</th>\n",
       "      <th>SELLERPLACE_AREA</th>\n",
       "      <th>CNT_PAYMENT</th>\n",
       "      <th>DAYS_FIRST_DRAWING</th>\n",
       "      <th>DAYS_FIRST_DUE</th>\n",
       "      <th>DAYS_LAST_DUE_1ST_VERSION</th>\n",
       "      <th>DAYS_LAST_DUE</th>\n",
       "      <th>DAYS_TERMINATION</th>\n",
       "      <th>NFLAG_INSURED_ON_APPROVAL</th>\n",
       "    </tr>\n",
       "  </thead>\n",
       "  <tbody>\n",
       "    <tr>\n",
       "      <th>count</th>\n",
       "      <td>1.000000e+05</td>\n",
       "      <td>100000.000000</td>\n",
       "      <td>78867.000000</td>\n",
       "      <td>1.000000e+05</td>\n",
       "      <td>1.000000e+05</td>\n",
       "      <td>4.941600e+04</td>\n",
       "      <td>7.840000e+04</td>\n",
       "      <td>100000.000000</td>\n",
       "      <td>100000.000000</td>\n",
       "      <td>49416.000000</td>\n",
       "      <td>...</td>\n",
       "      <td>341.000000</td>\n",
       "      <td>100000.000000</td>\n",
       "      <td>1.000000e+05</td>\n",
       "      <td>78867.000000</td>\n",
       "      <td>61880.000000</td>\n",
       "      <td>61880.000000</td>\n",
       "      <td>61880.000000</td>\n",
       "      <td>61880.000000</td>\n",
       "      <td>61880.000000</td>\n",
       "      <td>61880.000000</td>\n",
       "    </tr>\n",
       "    <tr>\n",
       "      <th>mean</th>\n",
       "      <td>1.920045e+06</td>\n",
       "      <td>278899.772470</td>\n",
       "      <td>15433.216658</td>\n",
       "      <td>1.683262e+05</td>\n",
       "      <td>1.879402e+05</td>\n",
       "      <td>6.653837e+03</td>\n",
       "      <td>2.147331e+05</td>\n",
       "      <td>12.464500</td>\n",
       "      <td>0.996590</td>\n",
       "      <td>0.079688</td>\n",
       "      <td>...</td>\n",
       "      <td>0.784244</td>\n",
       "      <td>-902.911130</td>\n",
       "      <td>3.528960e+02</td>\n",
       "      <td>15.494148</td>\n",
       "      <td>343800.687524</td>\n",
       "      <td>14124.636991</td>\n",
       "      <td>32250.567712</td>\n",
       "      <td>76655.178539</td>\n",
       "      <td>81745.872576</td>\n",
       "      <td>0.324418</td>\n",
       "    </tr>\n",
       "    <tr>\n",
       "      <th>std</th>\n",
       "      <td>5.349922e+05</td>\n",
       "      <td>102847.178043</td>\n",
       "      <td>14588.069941</td>\n",
       "      <td>2.823089e+05</td>\n",
       "      <td>3.087386e+05</td>\n",
       "      <td>1.855235e+04</td>\n",
       "      <td>3.028442e+05</td>\n",
       "      <td>3.322356</td>\n",
       "      <td>0.058296</td>\n",
       "      <td>0.107818</td>\n",
       "      <td>...</td>\n",
       "      <td>0.094204</td>\n",
       "      <td>787.791457</td>\n",
       "      <td>1.273162e+04</td>\n",
       "      <td>13.984772</td>\n",
       "      <td>85983.762457</td>\n",
       "      <td>73138.950424</td>\n",
       "      <td>104734.117745</td>\n",
       "      <td>149706.964263</td>\n",
       "      <td>153151.780750</td>\n",
       "      <td>0.468161</td>\n",
       "    </tr>\n",
       "    <tr>\n",
       "      <th>min</th>\n",
       "      <td>1.000001e+06</td>\n",
       "      <td>100006.000000</td>\n",
       "      <td>0.000000</td>\n",
       "      <td>0.000000e+00</td>\n",
       "      <td>0.000000e+00</td>\n",
       "      <td>0.000000e+00</td>\n",
       "      <td>0.000000e+00</td>\n",
       "      <td>0.000000</td>\n",
       "      <td>0.000000</td>\n",
       "      <td>0.000000</td>\n",
       "      <td>...</td>\n",
       "      <td>0.424419</td>\n",
       "      <td>-2922.000000</td>\n",
       "      <td>-1.000000e+00</td>\n",
       "      <td>0.000000</td>\n",
       "      <td>-2920.000000</td>\n",
       "      <td>-2891.000000</td>\n",
       "      <td>-2800.000000</td>\n",
       "      <td>-2888.000000</td>\n",
       "      <td>-2847.000000</td>\n",
       "      <td>0.000000</td>\n",
       "    </tr>\n",
       "    <tr>\n",
       "      <th>25%</th>\n",
       "      <td>1.455187e+06</td>\n",
       "      <td>189783.500000</td>\n",
       "      <td>6115.275000</td>\n",
       "      <td>2.166188e+04</td>\n",
       "      <td>2.581538e+04</td>\n",
       "      <td>0.000000e+00</td>\n",
       "      <td>4.905000e+04</td>\n",
       "      <td>10.000000</td>\n",
       "      <td>1.000000</td>\n",
       "      <td>0.000000</td>\n",
       "      <td>...</td>\n",
       "      <td>0.715645</td>\n",
       "      <td>-1346.000000</td>\n",
       "      <td>-1.000000e+00</td>\n",
       "      <td>6.000000</td>\n",
       "      <td>365243.000000</td>\n",
       "      <td>-1644.000000</td>\n",
       "      <td>-1270.000000</td>\n",
       "      <td>-1337.000000</td>\n",
       "      <td>-1296.000000</td>\n",
       "      <td>0.000000</td>\n",
       "    </tr>\n",
       "    <tr>\n",
       "      <th>50%</th>\n",
       "      <td>1.919599e+06</td>\n",
       "      <td>279094.500000</td>\n",
       "      <td>10852.380000</td>\n",
       "      <td>7.105500e+04</td>\n",
       "      <td>7.875000e+04</td>\n",
       "      <td>1.660950e+03</td>\n",
       "      <td>1.048342e+05</td>\n",
       "      <td>12.000000</td>\n",
       "      <td>1.000000</td>\n",
       "      <td>0.050686</td>\n",
       "      <td>...</td>\n",
       "      <td>0.835095</td>\n",
       "      <td>-602.000000</td>\n",
       "      <td>1.000000e+01</td>\n",
       "      <td>12.000000</td>\n",
       "      <td>365243.000000</td>\n",
       "      <td>-824.000000</td>\n",
       "      <td>-365.000000</td>\n",
       "      <td>-536.000000</td>\n",
       "      <td>-499.000000</td>\n",
       "      <td>0.000000</td>\n",
       "    </tr>\n",
       "    <tr>\n",
       "      <th>75%</th>\n",
       "      <td>2.384151e+06</td>\n",
       "      <td>368485.500000</td>\n",
       "      <td>19609.065000</td>\n",
       "      <td>1.800000e+05</td>\n",
       "      <td>1.979550e+05</td>\n",
       "      <td>7.807500e+03</td>\n",
       "      <td>2.250000e+05</td>\n",
       "      <td>15.000000</td>\n",
       "      <td>1.000000</td>\n",
       "      <td>0.108911</td>\n",
       "      <td>...</td>\n",
       "      <td>0.852537</td>\n",
       "      <td>-292.000000</td>\n",
       "      <td>1.000000e+02</td>\n",
       "      <td>18.000000</td>\n",
       "      <td>365243.000000</td>\n",
       "      <td>-405.000000</td>\n",
       "      <td>114.000000</td>\n",
       "      <td>-71.000000</td>\n",
       "      <td>-44.750000</td>\n",
       "      <td>1.000000</td>\n",
       "    </tr>\n",
       "    <tr>\n",
       "      <th>max</th>\n",
       "      <td>2.845377e+06</td>\n",
       "      <td>456254.000000</td>\n",
       "      <td>417927.645000</td>\n",
       "      <td>3.826372e+06</td>\n",
       "      <td>4.104351e+06</td>\n",
       "      <td>1.035000e+06</td>\n",
       "      <td>3.826372e+06</td>\n",
       "      <td>23.000000</td>\n",
       "      <td>1.000000</td>\n",
       "      <td>0.948445</td>\n",
       "      <td>...</td>\n",
       "      <td>0.867336</td>\n",
       "      <td>-2.000000</td>\n",
       "      <td>4.000000e+06</td>\n",
       "      <td>72.000000</td>\n",
       "      <td>365243.000000</td>\n",
       "      <td>365243.000000</td>\n",
       "      <td>365243.000000</td>\n",
       "      <td>365243.000000</td>\n",
       "      <td>365243.000000</td>\n",
       "      <td>1.000000</td>\n",
       "    </tr>\n",
       "  </tbody>\n",
       "</table>\n",
       "<p>8 rows × 21 columns</p>\n",
       "</div>"
      ],
      "text/plain": [
       "         SK_ID_PREV     SK_ID_CURR    AMT_ANNUITY  AMT_APPLICATION  \\\n",
       "count  1.000000e+05  100000.000000   78867.000000     1.000000e+05   \n",
       "mean   1.920045e+06  278899.772470   15433.216658     1.683262e+05   \n",
       "std    5.349922e+05  102847.178043   14588.069941     2.823089e+05   \n",
       "min    1.000001e+06  100006.000000       0.000000     0.000000e+00   \n",
       "25%    1.455187e+06  189783.500000    6115.275000     2.166188e+04   \n",
       "50%    1.919599e+06  279094.500000   10852.380000     7.105500e+04   \n",
       "75%    2.384151e+06  368485.500000   19609.065000     1.800000e+05   \n",
       "max    2.845377e+06  456254.000000  417927.645000     3.826372e+06   \n",
       "\n",
       "         AMT_CREDIT  AMT_DOWN_PAYMENT  AMT_GOODS_PRICE  \\\n",
       "count  1.000000e+05      4.941600e+04     7.840000e+04   \n",
       "mean   1.879402e+05      6.653837e+03     2.147331e+05   \n",
       "std    3.087386e+05      1.855235e+04     3.028442e+05   \n",
       "min    0.000000e+00      0.000000e+00     0.000000e+00   \n",
       "25%    2.581538e+04      0.000000e+00     4.905000e+04   \n",
       "50%    7.875000e+04      1.660950e+03     1.048342e+05   \n",
       "75%    1.979550e+05      7.807500e+03     2.250000e+05   \n",
       "max    4.104351e+06      1.035000e+06     3.826372e+06   \n",
       "\n",
       "       HOUR_APPR_PROCESS_START  NFLAG_LAST_APPL_IN_DAY  RATE_DOWN_PAYMENT  \\\n",
       "count            100000.000000           100000.000000       49416.000000   \n",
       "mean                 12.464500                0.996590           0.079688   \n",
       "std                   3.322356                0.058296           0.107818   \n",
       "min                   0.000000                0.000000           0.000000   \n",
       "25%                  10.000000                1.000000           0.000000   \n",
       "50%                  12.000000                1.000000           0.050686   \n",
       "75%                  15.000000                1.000000           0.108911   \n",
       "max                  23.000000                1.000000           0.948445   \n",
       "\n",
       "                 ...              RATE_INTEREST_PRIVILEGED  DAYS_DECISION  \\\n",
       "count            ...                            341.000000  100000.000000   \n",
       "mean             ...                              0.784244    -902.911130   \n",
       "std              ...                              0.094204     787.791457   \n",
       "min              ...                              0.424419   -2922.000000   \n",
       "25%              ...                              0.715645   -1346.000000   \n",
       "50%              ...                              0.835095    -602.000000   \n",
       "75%              ...                              0.852537    -292.000000   \n",
       "max              ...                              0.867336      -2.000000   \n",
       "\n",
       "       SELLERPLACE_AREA   CNT_PAYMENT  DAYS_FIRST_DRAWING  DAYS_FIRST_DUE  \\\n",
       "count      1.000000e+05  78867.000000        61880.000000    61880.000000   \n",
       "mean       3.528960e+02     15.494148       343800.687524    14124.636991   \n",
       "std        1.273162e+04     13.984772        85983.762457    73138.950424   \n",
       "min       -1.000000e+00      0.000000        -2920.000000    -2891.000000   \n",
       "25%       -1.000000e+00      6.000000       365243.000000    -1644.000000   \n",
       "50%        1.000000e+01     12.000000       365243.000000     -824.000000   \n",
       "75%        1.000000e+02     18.000000       365243.000000     -405.000000   \n",
       "max        4.000000e+06     72.000000       365243.000000   365243.000000   \n",
       "\n",
       "       DAYS_LAST_DUE_1ST_VERSION  DAYS_LAST_DUE  DAYS_TERMINATION  \\\n",
       "count               61880.000000   61880.000000      61880.000000   \n",
       "mean                32250.567712   76655.178539      81745.872576   \n",
       "std                104734.117745  149706.964263     153151.780750   \n",
       "min                 -2800.000000   -2888.000000      -2847.000000   \n",
       "25%                 -1270.000000   -1337.000000      -1296.000000   \n",
       "50%                  -365.000000    -536.000000       -499.000000   \n",
       "75%                   114.000000     -71.000000        -44.750000   \n",
       "max                365243.000000  365243.000000     365243.000000   \n",
       "\n",
       "       NFLAG_INSURED_ON_APPROVAL  \n",
       "count               61880.000000  \n",
       "mean                    0.324418  \n",
       "std                     0.468161  \n",
       "min                     0.000000  \n",
       "25%                     0.000000  \n",
       "50%                     0.000000  \n",
       "75%                     1.000000  \n",
       "max                     1.000000  \n",
       "\n",
       "[8 rows x 21 columns]"
      ]
     },
     "execution_count": 44,
     "metadata": {},
     "output_type": "execute_result"
    }
   ],
   "source": [
    "# Summary Statistics for each column.\n",
    "\n",
    "df.describe()"
   ]
  },
  {
   "cell_type": "code",
   "execution_count": 45,
   "metadata": {},
   "outputs": [
    {
     "data": {
      "text/plain": [
       "Index(['SK_ID_PREV', 'SK_ID_CURR', 'NAME_CONTRACT_TYPE', 'AMT_ANNUITY',\n",
       "       'AMT_APPLICATION', 'AMT_CREDIT', 'AMT_DOWN_PAYMENT', 'AMT_GOODS_PRICE',\n",
       "       'WEEKDAY_APPR_PROCESS_START', 'HOUR_APPR_PROCESS_START',\n",
       "       'FLAG_LAST_APPL_PER_CONTRACT', 'NFLAG_LAST_APPL_IN_DAY',\n",
       "       'RATE_DOWN_PAYMENT', 'RATE_INTEREST_PRIMARY',\n",
       "       'RATE_INTEREST_PRIVILEGED', 'NAME_CASH_LOAN_PURPOSE',\n",
       "       'NAME_CONTRACT_STATUS', 'DAYS_DECISION', 'NAME_PAYMENT_TYPE',\n",
       "       'CODE_REJECT_REASON', 'NAME_TYPE_SUITE', 'NAME_CLIENT_TYPE',\n",
       "       'NAME_GOODS_CATEGORY', 'NAME_PORTFOLIO', 'NAME_PRODUCT_TYPE',\n",
       "       'CHANNEL_TYPE', 'SELLERPLACE_AREA', 'NAME_SELLER_INDUSTRY',\n",
       "       'CNT_PAYMENT', 'NAME_YIELD_GROUP', 'PRODUCT_COMBINATION',\n",
       "       'DAYS_FIRST_DRAWING', 'DAYS_FIRST_DUE', 'DAYS_LAST_DUE_1ST_VERSION',\n",
       "       'DAYS_LAST_DUE', 'DAYS_TERMINATION', 'NFLAG_INSURED_ON_APPROVAL'],\n",
       "      dtype='object')"
      ]
     },
     "execution_count": 45,
     "metadata": {},
     "output_type": "execute_result"
    }
   ],
   "source": [
    "# Observe the features(columns) available and choose the improtant one's for analysis.\n",
    "df.columns"
   ]
  },
  {
   "cell_type": "markdown",
   "metadata": {},
   "source": [
    "## Data cleaning for application_data.csv\n",
    "\n",
    "#### Identifying Missing Values\n",
    "\n",
    "The methods ```isnull()``` and ```notnull()``` are the most common ways of identifying missing values. \n",
    "\n",
    "While handling missing data, we first need to identify the rows and columns containing missing values, count the number of missing values, and then decide how to treat them.\n",
    "\n",
    "It is important that to **treat missing values in each column separately**, rather than implementing a single solution (e.g. replacing NaNs by the mean of a column) for all columns."
   ]
  },
  {
   "cell_type": "code",
   "execution_count": 46,
   "metadata": {},
   "outputs": [
    {
     "data": {
      "text/plain": [
       "SK_ID_PREV                         0\n",
       "SK_ID_CURR                         0\n",
       "NAME_CONTRACT_TYPE                 0\n",
       "AMT_ANNUITY                    21133\n",
       "AMT_APPLICATION                    0\n",
       "AMT_CREDIT                         0\n",
       "AMT_DOWN_PAYMENT               50584\n",
       "AMT_GOODS_PRICE                21600\n",
       "WEEKDAY_APPR_PROCESS_START         0\n",
       "HOUR_APPR_PROCESS_START            0\n",
       "FLAG_LAST_APPL_PER_CONTRACT        0\n",
       "NFLAG_LAST_APPL_IN_DAY             0\n",
       "RATE_DOWN_PAYMENT              50584\n",
       "RATE_INTEREST_PRIMARY          99659\n",
       "RATE_INTEREST_PRIVILEGED       99659\n",
       "NAME_CASH_LOAN_PURPOSE             0\n",
       "NAME_CONTRACT_STATUS               0\n",
       "DAYS_DECISION                      0\n",
       "NAME_PAYMENT_TYPE                  0\n",
       "CODE_REJECT_REASON                 0\n",
       "NAME_TYPE_SUITE                48484\n",
       "NAME_CLIENT_TYPE                   0\n",
       "NAME_GOODS_CATEGORY                0\n",
       "NAME_PORTFOLIO                     0\n",
       "NAME_PRODUCT_TYPE                  0\n",
       "CHANNEL_TYPE                       0\n",
       "SELLERPLACE_AREA                   0\n",
       "NAME_SELLER_INDUSTRY               0\n",
       "CNT_PAYMENT                    21133\n",
       "NAME_YIELD_GROUP                   0\n",
       "PRODUCT_COMBINATION               17\n",
       "DAYS_FIRST_DRAWING             38120\n",
       "DAYS_FIRST_DUE                 38120\n",
       "DAYS_LAST_DUE_1ST_VERSION      38120\n",
       "DAYS_LAST_DUE                  38120\n",
       "DAYS_TERMINATION               38120\n",
       "NFLAG_INSURED_ON_APPROVAL      38120\n",
       "dtype: int64"
      ]
     },
     "execution_count": 46,
     "metadata": {},
     "output_type": "execute_result"
    }
   ],
   "source": [
    "# summing up the missing values (column-wise)\n",
    "df.isnull().sum()"
   ]
  },
  {
   "cell_type": "code",
   "execution_count": 47,
   "metadata": {},
   "outputs": [
    {
     "data": {
      "text/plain": [
       "SK_ID_PREV                       0.0\n",
       "SK_ID_CURR                       0.0\n",
       "NAME_CONTRACT_TYPE               0.0\n",
       "AMT_ANNUITY                     21.0\n",
       "AMT_APPLICATION                  0.0\n",
       "AMT_CREDIT                       0.0\n",
       "AMT_DOWN_PAYMENT                51.0\n",
       "AMT_GOODS_PRICE                 22.0\n",
       "WEEKDAY_APPR_PROCESS_START       0.0\n",
       "HOUR_APPR_PROCESS_START          0.0\n",
       "FLAG_LAST_APPL_PER_CONTRACT      0.0\n",
       "NFLAG_LAST_APPL_IN_DAY           0.0\n",
       "RATE_DOWN_PAYMENT               51.0\n",
       "RATE_INTEREST_PRIMARY          100.0\n",
       "RATE_INTEREST_PRIVILEGED       100.0\n",
       "NAME_CASH_LOAN_PURPOSE           0.0\n",
       "NAME_CONTRACT_STATUS             0.0\n",
       "DAYS_DECISION                    0.0\n",
       "NAME_PAYMENT_TYPE                0.0\n",
       "CODE_REJECT_REASON               0.0\n",
       "NAME_TYPE_SUITE                 48.0\n",
       "NAME_CLIENT_TYPE                 0.0\n",
       "NAME_GOODS_CATEGORY              0.0\n",
       "NAME_PORTFOLIO                   0.0\n",
       "NAME_PRODUCT_TYPE                0.0\n",
       "CHANNEL_TYPE                     0.0\n",
       "SELLERPLACE_AREA                 0.0\n",
       "NAME_SELLER_INDUSTRY             0.0\n",
       "CNT_PAYMENT                     21.0\n",
       "NAME_YIELD_GROUP                 0.0\n",
       "PRODUCT_COMBINATION              0.0\n",
       "DAYS_FIRST_DRAWING              38.0\n",
       "DAYS_FIRST_DUE                  38.0\n",
       "DAYS_LAST_DUE_1ST_VERSION       38.0\n",
       "DAYS_LAST_DUE                   38.0\n",
       "DAYS_TERMINATION                38.0\n",
       "NFLAG_INSURED_ON_APPROVAL       38.0\n",
       "dtype: float64"
      ]
     },
     "execution_count": 47,
     "metadata": {},
     "output_type": "execute_result"
    }
   ],
   "source": [
    "# percentage of missing values in each column\n",
    "round(df.isnull().sum()/len(df.index), 2)*100"
   ]
  },
  {
   "cell_type": "code",
   "execution_count": 48,
   "metadata": {},
   "outputs": [
    {
     "name": "stdout",
     "output_type": "stream",
     "text": [
      "Index(['AMT_DOWN_PAYMENT', 'RATE_DOWN_PAYMENT', 'RATE_INTEREST_PRIMARY',\n",
      "       'RATE_INTEREST_PRIVILEGED'],\n",
      "      dtype='object')\n",
      "4\n"
     ]
    }
   ],
   "source": [
    "# Removing the columns having at least 50% missing values.\n",
    "\n",
    "columns_to_drop = df.columns[100*(df.isnull().sum()/len(df.index)) >= 50]\n",
    "print(columns_to_drop)\n",
    "print(len(columns_to_drop))"
   ]
  },
  {
   "cell_type": "markdown",
   "metadata": {},
   "source": [
    "So as seen above we have 4 of the columns having atleast 50% of the missing values. So we will drop these columns."
   ]
  },
  {
   "cell_type": "code",
   "execution_count": 49,
   "metadata": {},
   "outputs": [
    {
     "name": "stdout",
     "output_type": "stream",
     "text": [
      "(100000, 33)\n"
     ]
    }
   ],
   "source": [
    "# Drop above columns from data frame.\n",
    "\n",
    "df = df.drop(columns_to_drop, axis=1)\n",
    "print(df.shape)"
   ]
  },
  {
   "cell_type": "code",
   "execution_count": 50,
   "metadata": {},
   "outputs": [
    {
     "data": {
      "text/plain": [
       "Index(['SK_ID_PREV', 'SK_ID_CURR', 'NAME_CONTRACT_TYPE', 'AMT_ANNUITY',\n",
       "       'AMT_APPLICATION', 'AMT_CREDIT', 'AMT_GOODS_PRICE',\n",
       "       'WEEKDAY_APPR_PROCESS_START', 'HOUR_APPR_PROCESS_START',\n",
       "       'FLAG_LAST_APPL_PER_CONTRACT', 'NFLAG_LAST_APPL_IN_DAY',\n",
       "       'NAME_CASH_LOAN_PURPOSE', 'NAME_CONTRACT_STATUS', 'DAYS_DECISION',\n",
       "       'NAME_PAYMENT_TYPE', 'CODE_REJECT_REASON', 'NAME_TYPE_SUITE',\n",
       "       'NAME_CLIENT_TYPE', 'NAME_GOODS_CATEGORY', 'NAME_PORTFOLIO',\n",
       "       'NAME_PRODUCT_TYPE', 'CHANNEL_TYPE', 'SELLERPLACE_AREA',\n",
       "       'NAME_SELLER_INDUSTRY', 'CNT_PAYMENT', 'NAME_YIELD_GROUP',\n",
       "       'PRODUCT_COMBINATION', 'DAYS_FIRST_DRAWING', 'DAYS_FIRST_DUE',\n",
       "       'DAYS_LAST_DUE_1ST_VERSION', 'DAYS_LAST_DUE', 'DAYS_TERMINATION',\n",
       "       'NFLAG_INSURED_ON_APPROVAL'],\n",
       "      dtype='object')"
      ]
     },
     "execution_count": 50,
     "metadata": {},
     "output_type": "execute_result"
    }
   ],
   "source": [
    "df.columns"
   ]
  },
  {
   "cell_type": "code",
   "execution_count": 51,
   "metadata": {},
   "outputs": [
    {
     "data": {
      "text/plain": [
       "SK_ID_PREV                      0.000\n",
       "SK_ID_CURR                      0.000\n",
       "NAME_CONTRACT_TYPE              0.000\n",
       "AMT_ANNUITY                    21.133\n",
       "AMT_APPLICATION                 0.000\n",
       "AMT_CREDIT                      0.000\n",
       "AMT_GOODS_PRICE                21.600\n",
       "WEEKDAY_APPR_PROCESS_START      0.000\n",
       "HOUR_APPR_PROCESS_START         0.000\n",
       "FLAG_LAST_APPL_PER_CONTRACT     0.000\n",
       "NFLAG_LAST_APPL_IN_DAY          0.000\n",
       "NAME_CASH_LOAN_PURPOSE          0.000\n",
       "NAME_CONTRACT_STATUS            0.000\n",
       "DAYS_DECISION                   0.000\n",
       "NAME_PAYMENT_TYPE               0.000\n",
       "CODE_REJECT_REASON              0.000\n",
       "NAME_TYPE_SUITE                48.484\n",
       "NAME_CLIENT_TYPE                0.000\n",
       "NAME_GOODS_CATEGORY             0.000\n",
       "NAME_PORTFOLIO                  0.000\n",
       "NAME_PRODUCT_TYPE               0.000\n",
       "CHANNEL_TYPE                    0.000\n",
       "SELLERPLACE_AREA                0.000\n",
       "NAME_SELLER_INDUSTRY            0.000\n",
       "CNT_PAYMENT                    21.133\n",
       "NAME_YIELD_GROUP                0.000\n",
       "PRODUCT_COMBINATION             0.017\n",
       "DAYS_FIRST_DRAWING             38.120\n",
       "DAYS_FIRST_DUE                 38.120\n",
       "DAYS_LAST_DUE_1ST_VERSION      38.120\n",
       "DAYS_LAST_DUE                  38.120\n",
       "DAYS_TERMINATION               38.120\n",
       "NFLAG_INSURED_ON_APPROVAL      38.120\n",
       "dtype: float64"
      ]
     },
     "execution_count": 51,
     "metadata": {},
     "output_type": "execute_result"
    }
   ],
   "source": [
    "# Check % of missing values.\n",
    "(df.isnull().sum()/len(df.index)) * 100"
   ]
  },
  {
   "cell_type": "code",
   "execution_count": 52,
   "metadata": {},
   "outputs": [
    {
     "name": "stdout",
     "output_type": "stream",
     "text": [
      "Index(['NAME_TYPE_SUITE', 'DAYS_FIRST_DRAWING', 'DAYS_FIRST_DUE',\n",
      "       'DAYS_LAST_DUE_1ST_VERSION', 'DAYS_LAST_DUE', 'DAYS_TERMINATION',\n",
      "       'NFLAG_INSURED_ON_APPROVAL'],\n",
      "      dtype='object')\n"
     ]
    }
   ],
   "source": [
    "# Check variables having atleast 30% of missing values.\n",
    "columns = df.columns[100*(df.isnull().sum()/len(df.index)) >= 30]\n",
    "print(columns)"
   ]
  },
  {
   "cell_type": "markdown",
   "metadata": {},
   "source": [
    "In the above columns we can check how each one of them affect the TARGET variable. \n",
    "If it has minor impact on the target then it's safe to drop those variables which has around 30% missing values.\n",
    "\n",
    "So assuming below variables are safe to drop except **'NFLAG_INSURED_ON_APPROVAL'**\n",
    "'NAME_TYPE_SUITE', 'DAYS_FIRST_DRAWING', 'DAYS_FIRST_DUE',\n",
    "       'DAYS_LAST_DUE_1ST_VERSION', 'DAYS_LAST_DUE', 'DAYS_TERMINATION',\n",
    "       'NFLAG_INSURED_ON_APPROVAL"
   ]
  },
  {
   "cell_type": "code",
   "execution_count": 53,
   "metadata": {},
   "outputs": [
    {
     "name": "stdout",
     "output_type": "stream",
     "text": [
      "(100000, 27)\n"
     ]
    }
   ],
   "source": [
    "columns_to_drop = ['NAME_TYPE_SUITE', 'DAYS_FIRST_DRAWING', 'DAYS_FIRST_DUE',\n",
    "       'DAYS_LAST_DUE_1ST_VERSION', 'DAYS_LAST_DUE', 'DAYS_TERMINATION']\n",
    "df = df.drop(columns_to_drop, axis=1)\n",
    "print(df.shape)"
   ]
  },
  {
   "cell_type": "code",
   "execution_count": 54,
   "metadata": {},
   "outputs": [
    {
     "data": {
      "text/plain": [
       "SK_ID_PREV                      0.000\n",
       "SK_ID_CURR                      0.000\n",
       "NAME_CONTRACT_TYPE              0.000\n",
       "AMT_ANNUITY                    21.133\n",
       "AMT_APPLICATION                 0.000\n",
       "AMT_CREDIT                      0.000\n",
       "AMT_GOODS_PRICE                21.600\n",
       "WEEKDAY_APPR_PROCESS_START      0.000\n",
       "HOUR_APPR_PROCESS_START         0.000\n",
       "FLAG_LAST_APPL_PER_CONTRACT     0.000\n",
       "NFLAG_LAST_APPL_IN_DAY          0.000\n",
       "NAME_CASH_LOAN_PURPOSE          0.000\n",
       "NAME_CONTRACT_STATUS            0.000\n",
       "DAYS_DECISION                   0.000\n",
       "NAME_PAYMENT_TYPE               0.000\n",
       "CODE_REJECT_REASON              0.000\n",
       "NAME_CLIENT_TYPE                0.000\n",
       "NAME_GOODS_CATEGORY             0.000\n",
       "NAME_PORTFOLIO                  0.000\n",
       "NAME_PRODUCT_TYPE               0.000\n",
       "CHANNEL_TYPE                    0.000\n",
       "SELLERPLACE_AREA                0.000\n",
       "NAME_SELLER_INDUSTRY            0.000\n",
       "CNT_PAYMENT                    21.133\n",
       "NAME_YIELD_GROUP                0.000\n",
       "PRODUCT_COMBINATION             0.017\n",
       "NFLAG_INSURED_ON_APPROVAL      38.120\n",
       "dtype: float64"
      ]
     },
     "execution_count": 54,
     "metadata": {},
     "output_type": "execute_result"
    }
   ],
   "source": [
    "# Check % of missing values.\n",
    "(df.isnull().sum()/len(df.index)) * 100"
   ]
  },
  {
   "cell_type": "markdown",
   "metadata": {},
   "source": [
    "So by far we have reduced our missing values to ~30% column-wise, so now we will find startegies to apply imputation on missing values. "
   ]
  },
  {
   "cell_type": "markdown",
   "metadata": {},
   "source": [
    "### Treating Missing Values in Columns\n",
    "\n",
    "Let's now treat missing values in columns. Let's look at the number of NaNs in each column again."
   ]
  },
  {
   "cell_type": "code",
   "execution_count": 55,
   "metadata": {},
   "outputs": [
    {
     "name": "stdout",
     "output_type": "stream",
     "text": [
      "(100000, 27)\n",
      "Index(['AMT_ANNUITY', 'AMT_GOODS_PRICE', 'CNT_PAYMENT',\n",
      "       'NFLAG_INSURED_ON_APPROVAL'],\n",
      "      dtype='object')\n",
      "0.0    41805\n",
      "1.0    20075\n",
      "Name: NFLAG_INSURED_ON_APPROVAL, dtype: int64\n"
     ]
    }
   ],
   "source": [
    "# Explore columns having missing values more thatn 5%.\n",
    "\n",
    "print(df.shape)\n",
    "\n",
    "print(df.columns[100*(df.isnull().sum()/len(df.index)) >= 5])\n",
    "\n",
    "# As we can see from the results that 'NFLAG_INSURED_ON_APPROVAL' has ~38% missing values.\n",
    "print(df['NFLAG_INSURED_ON_APPROVAL'].value_counts())"
   ]
  },
  {
   "cell_type": "markdown",
   "metadata": {},
   "source": [
    "We shall drop **NFLAG_INSURED_ON_APPROVAL** by observing above values, If we try to impute missing values in **NFLAG_INSURED_ON_APPROVAL** with **0.0** which approximately constitutes to **~41%(41805/100000)** of the total occupations, this would still result in biased imputation having ~80% of data with **0.0**. So we shall consider to drop this column."
   ]
  },
  {
   "cell_type": "code",
   "execution_count": 56,
   "metadata": {},
   "outputs": [
    {
     "name": "stdout",
     "output_type": "stream",
     "text": [
      "(100000, 26)\n",
      "SK_ID_PREV                      0.000\n",
      "SK_ID_CURR                      0.000\n",
      "NAME_CONTRACT_TYPE              0.000\n",
      "AMT_ANNUITY                    21.133\n",
      "AMT_APPLICATION                 0.000\n",
      "AMT_CREDIT                      0.000\n",
      "AMT_GOODS_PRICE                21.600\n",
      "WEEKDAY_APPR_PROCESS_START      0.000\n",
      "HOUR_APPR_PROCESS_START         0.000\n",
      "FLAG_LAST_APPL_PER_CONTRACT     0.000\n",
      "NFLAG_LAST_APPL_IN_DAY          0.000\n",
      "NAME_CASH_LOAN_PURPOSE          0.000\n",
      "NAME_CONTRACT_STATUS            0.000\n",
      "DAYS_DECISION                   0.000\n",
      "NAME_PAYMENT_TYPE               0.000\n",
      "CODE_REJECT_REASON              0.000\n",
      "NAME_CLIENT_TYPE                0.000\n",
      "NAME_GOODS_CATEGORY             0.000\n",
      "NAME_PORTFOLIO                  0.000\n",
      "NAME_PRODUCT_TYPE               0.000\n",
      "CHANNEL_TYPE                    0.000\n",
      "SELLERPLACE_AREA                0.000\n",
      "NAME_SELLER_INDUSTRY            0.000\n",
      "CNT_PAYMENT                    21.133\n",
      "NAME_YIELD_GROUP                0.000\n",
      "PRODUCT_COMBINATION             0.017\n",
      "dtype: float64\n"
     ]
    }
   ],
   "source": [
    "df = df.drop('NFLAG_INSURED_ON_APPROVAL', axis=1)\n",
    "print(df.shape)\n",
    "\n",
    "print(# Check % of missing values.\n",
    "(df.isnull().sum()/len(df.index)) * 100)"
   ]
  },
  {
   "cell_type": "code",
   "execution_count": 57,
   "metadata": {},
   "outputs": [
    {
     "data": {
      "text/plain": [
       "count    78867.000000\n",
       "mean        15.494148\n",
       "std         13.984772\n",
       "min          0.000000\n",
       "25%          6.000000\n",
       "50%         12.000000\n",
       "75%         18.000000\n",
       "max         72.000000\n",
       "Name: CNT_PAYMENT, dtype: float64"
      ]
     },
     "execution_count": 57,
     "metadata": {},
     "output_type": "execute_result"
    }
   ],
   "source": [
    "# Now we try to treat  - 'CNT_PAYMENT'\n",
    "df['CNT_PAYMENT'].describe()"
   ]
  },
  {
   "cell_type": "markdown",
   "metadata": {},
   "source": [
    "\n",
    "A good way to estimate the 'spread of data' is to look at the difference between the mean and the median (lower the better).\n",
    "Thus, let's impute the missing values by the mean value."
   ]
  },
  {
   "cell_type": "code",
   "execution_count": 58,
   "metadata": {},
   "outputs": [
    {
     "data": {
      "text/plain": [
       "SK_ID_PREV                      0.000\n",
       "SK_ID_CURR                      0.000\n",
       "NAME_CONTRACT_TYPE              0.000\n",
       "AMT_ANNUITY                    21.133\n",
       "AMT_APPLICATION                 0.000\n",
       "AMT_CREDIT                      0.000\n",
       "AMT_GOODS_PRICE                21.600\n",
       "WEEKDAY_APPR_PROCESS_START      0.000\n",
       "HOUR_APPR_PROCESS_START         0.000\n",
       "FLAG_LAST_APPL_PER_CONTRACT     0.000\n",
       "NFLAG_LAST_APPL_IN_DAY          0.000\n",
       "NAME_CASH_LOAN_PURPOSE          0.000\n",
       "NAME_CONTRACT_STATUS            0.000\n",
       "DAYS_DECISION                   0.000\n",
       "NAME_PAYMENT_TYPE               0.000\n",
       "CODE_REJECT_REASON              0.000\n",
       "NAME_CLIENT_TYPE                0.000\n",
       "NAME_GOODS_CATEGORY             0.000\n",
       "NAME_PORTFOLIO                  0.000\n",
       "NAME_PRODUCT_TYPE               0.000\n",
       "CHANNEL_TYPE                    0.000\n",
       "SELLERPLACE_AREA                0.000\n",
       "NAME_SELLER_INDUSTRY            0.000\n",
       "CNT_PAYMENT                     0.000\n",
       "NAME_YIELD_GROUP                0.000\n",
       "PRODUCT_COMBINATION             0.017\n",
       "dtype: float64"
      ]
     },
     "execution_count": 58,
     "metadata": {},
     "output_type": "execute_result"
    }
   ],
   "source": [
    "# imputing CNT_PAYMENT by mean value.\n",
    "df['CNT_PAYMENT'].fillna((df['CNT_PAYMENT'].mean()), inplace=True)\n",
    "df.isnull().sum()/len(df.index) * 100"
   ]
  },
  {
   "cell_type": "markdown",
   "metadata": {},
   "source": [
    "Now we shall proceed to choose our variables for the analysis."
   ]
  },
  {
   "cell_type": "code",
   "execution_count": 59,
   "metadata": {},
   "outputs": [
    {
     "name": "stdout",
     "output_type": "stream",
     "text": [
      "Index(['SK_ID_PREV', 'SK_ID_CURR', 'NAME_CONTRACT_TYPE', 'AMT_ANNUITY',\n",
      "       'AMT_APPLICATION', 'AMT_CREDIT', 'AMT_GOODS_PRICE',\n",
      "       'WEEKDAY_APPR_PROCESS_START', 'HOUR_APPR_PROCESS_START',\n",
      "       'FLAG_LAST_APPL_PER_CONTRACT', 'NFLAG_LAST_APPL_IN_DAY',\n",
      "       'NAME_CASH_LOAN_PURPOSE', 'NAME_CONTRACT_STATUS', 'DAYS_DECISION',\n",
      "       'NAME_PAYMENT_TYPE', 'CODE_REJECT_REASON', 'NAME_CLIENT_TYPE',\n",
      "       'NAME_GOODS_CATEGORY', 'NAME_PORTFOLIO', 'NAME_PRODUCT_TYPE',\n",
      "       'CHANNEL_TYPE', 'SELLERPLACE_AREA', 'NAME_SELLER_INDUSTRY',\n",
      "       'CNT_PAYMENT', 'NAME_YIELD_GROUP', 'PRODUCT_COMBINATION'],\n",
      "      dtype='object')\n"
     ]
    }
   ],
   "source": [
    "# Choose required columns for analysis.\n",
    "print(df.columns)"
   ]
  },
  {
   "cell_type": "markdown",
   "metadata": {},
   "source": [
    "#### Select attributes(features - independant variables) for our analysis.\n",
    "\n",
    "We can consider below attributes(independant variables) for our analysis on how these impact our 'TARGET' variable, Also at the end of this first set of analysis we will put our observations on how some of these variables impact the Loan contract status. This can be finally used to predict probable defaults.\n",
    "\n",
    "TARGET variable - **NAME_CONTRACT_STATUS - Contract status (approved, cancelled, ...) of previous application**\n",
    "\n",
    "    1. NAME_CONTRACT_TYPE  - Contract product type (Cash loan, consumer loan [POS] ,...)\n",
    "    2. AMT_CREDIT          - Final credit amount on the previous application.\n",
    "    3. AMT_APPLICATION     - how much credit did client ask on the previous application.\n",
    "    3. NAME_CLIENT_TYPE    - Was the client old or new client when applying for the previous application.\n",
    "    4. NAME_PAYMENT_TYPE   - Payment method that client chose to pay for the previous application.\n",
    "    5. NAME_YIELD_GROUP    - Grouped interest rate into small medium and high of the previous application\n",
    "    6. AMT_ANNUITY         - Annuity of previous application"
   ]
  },
  {
   "cell_type": "code",
   "execution_count": 60,
   "metadata": {},
   "outputs": [
    {
     "data": {
      "text/html": [
       "<div>\n",
       "<style scoped>\n",
       "    .dataframe tbody tr th:only-of-type {\n",
       "        vertical-align: middle;\n",
       "    }\n",
       "\n",
       "    .dataframe tbody tr th {\n",
       "        vertical-align: top;\n",
       "    }\n",
       "\n",
       "    .dataframe thead th {\n",
       "        text-align: right;\n",
       "    }\n",
       "</style>\n",
       "<table border=\"1\" class=\"dataframe\">\n",
       "  <thead>\n",
       "    <tr style=\"text-align: right;\">\n",
       "      <th></th>\n",
       "      <th>SK_ID_PREV</th>\n",
       "      <th>NAME_CONTRACT_STATUS</th>\n",
       "      <th>NAME_CONTRACT_TYPE</th>\n",
       "      <th>AMT_CREDIT</th>\n",
       "      <th>AMT_APPLICATION</th>\n",
       "      <th>NAME_CLIENT_TYPE</th>\n",
       "      <th>NAME_PAYMENT_TYPE</th>\n",
       "      <th>NAME_YIELD_GROUP</th>\n",
       "    </tr>\n",
       "  </thead>\n",
       "  <tbody>\n",
       "    <tr>\n",
       "      <th>0</th>\n",
       "      <td>2030495</td>\n",
       "      <td>Approved</td>\n",
       "      <td>Consumer loans</td>\n",
       "      <td>17145.0</td>\n",
       "      <td>17145.0</td>\n",
       "      <td>Repeater</td>\n",
       "      <td>Cash through the bank</td>\n",
       "      <td>middle</td>\n",
       "    </tr>\n",
       "    <tr>\n",
       "      <th>1</th>\n",
       "      <td>2802425</td>\n",
       "      <td>Approved</td>\n",
       "      <td>Cash loans</td>\n",
       "      <td>679671.0</td>\n",
       "      <td>607500.0</td>\n",
       "      <td>Repeater</td>\n",
       "      <td>XNA</td>\n",
       "      <td>low_action</td>\n",
       "    </tr>\n",
       "    <tr>\n",
       "      <th>2</th>\n",
       "      <td>2523466</td>\n",
       "      <td>Approved</td>\n",
       "      <td>Cash loans</td>\n",
       "      <td>136444.5</td>\n",
       "      <td>112500.0</td>\n",
       "      <td>Repeater</td>\n",
       "      <td>Cash through the bank</td>\n",
       "      <td>high</td>\n",
       "    </tr>\n",
       "    <tr>\n",
       "      <th>3</th>\n",
       "      <td>2819243</td>\n",
       "      <td>Approved</td>\n",
       "      <td>Cash loans</td>\n",
       "      <td>470790.0</td>\n",
       "      <td>450000.0</td>\n",
       "      <td>Repeater</td>\n",
       "      <td>Cash through the bank</td>\n",
       "      <td>middle</td>\n",
       "    </tr>\n",
       "    <tr>\n",
       "      <th>4</th>\n",
       "      <td>1784265</td>\n",
       "      <td>Refused</td>\n",
       "      <td>Cash loans</td>\n",
       "      <td>404055.0</td>\n",
       "      <td>337500.0</td>\n",
       "      <td>Repeater</td>\n",
       "      <td>Cash through the bank</td>\n",
       "      <td>high</td>\n",
       "    </tr>\n",
       "  </tbody>\n",
       "</table>\n",
       "</div>"
      ],
      "text/plain": [
       "   SK_ID_PREV NAME_CONTRACT_STATUS NAME_CONTRACT_TYPE  AMT_CREDIT  \\\n",
       "0     2030495             Approved     Consumer loans     17145.0   \n",
       "1     2802425             Approved         Cash loans    679671.0   \n",
       "2     2523466             Approved         Cash loans    136444.5   \n",
       "3     2819243             Approved         Cash loans    470790.0   \n",
       "4     1784265              Refused         Cash loans    404055.0   \n",
       "\n",
       "   AMT_APPLICATION NAME_CLIENT_TYPE      NAME_PAYMENT_TYPE NAME_YIELD_GROUP  \n",
       "0          17145.0         Repeater  Cash through the bank           middle  \n",
       "1         607500.0         Repeater                    XNA       low_action  \n",
       "2         112500.0         Repeater  Cash through the bank             high  \n",
       "3         450000.0         Repeater  Cash through the bank           middle  \n",
       "4         337500.0         Repeater  Cash through the bank             high  "
      ]
     },
     "execution_count": 60,
     "metadata": {},
     "output_type": "execute_result"
    }
   ],
   "source": [
    "columns = ['SK_ID_PREV', 'NAME_CONTRACT_STATUS','NAME_CONTRACT_TYPE', 'AMT_CREDIT','AMT_APPLICATION', \n",
    "           'NAME_CLIENT_TYPE', 'NAME_PAYMENT_TYPE', 'NAME_YIELD_GROUP']\n",
    "sliced_data = df[columns].copy()\n",
    "sliced_data.head()"
   ]
  },
  {
   "cell_type": "markdown",
   "metadata": {},
   "source": [
    "### Observe data types."
   ]
  },
  {
   "cell_type": "code",
   "execution_count": 61,
   "metadata": {},
   "outputs": [
    {
     "data": {
      "text/plain": [
       "SK_ID_PREV                int64\n",
       "NAME_CONTRACT_STATUS     object\n",
       "NAME_CONTRACT_TYPE       object\n",
       "AMT_CREDIT              float64\n",
       "AMT_APPLICATION         float64\n",
       "NAME_CLIENT_TYPE         object\n",
       "NAME_PAYMENT_TYPE        object\n",
       "NAME_YIELD_GROUP         object\n",
       "dtype: object"
      ]
     },
     "execution_count": 61,
     "metadata": {},
     "output_type": "execute_result"
    }
   ],
   "source": [
    "sliced_data.dtypes"
   ]
  },
  {
   "cell_type": "markdown",
   "metadata": {},
   "source": [
    "Here we can see that we we need to update our TARGET variable **NAME_CONTRACT_TYPE** so that it will help us for anlysis."
   ]
  },
  {
   "cell_type": "code",
   "execution_count": 62,
   "metadata": {},
   "outputs": [
    {
     "data": {
      "text/html": [
       "<div>\n",
       "<style scoped>\n",
       "    .dataframe tbody tr th:only-of-type {\n",
       "        vertical-align: middle;\n",
       "    }\n",
       "\n",
       "    .dataframe tbody tr th {\n",
       "        vertical-align: top;\n",
       "    }\n",
       "\n",
       "    .dataframe thead th {\n",
       "        text-align: right;\n",
       "    }\n",
       "</style>\n",
       "<table border=\"1\" class=\"dataframe\">\n",
       "  <thead>\n",
       "    <tr style=\"text-align: right;\">\n",
       "      <th></th>\n",
       "      <th>SK_ID_PREV</th>\n",
       "      <th>NAME_CONTRACT_STATUS</th>\n",
       "      <th>NAME_CONTRACT_TYPE</th>\n",
       "      <th>AMT_CREDIT</th>\n",
       "      <th>AMT_APPLICATION</th>\n",
       "      <th>NAME_CLIENT_TYPE</th>\n",
       "      <th>NAME_PAYMENT_TYPE</th>\n",
       "      <th>NAME_YIELD_GROUP</th>\n",
       "    </tr>\n",
       "  </thead>\n",
       "  <tbody>\n",
       "    <tr>\n",
       "      <th>0</th>\n",
       "      <td>2030495</td>\n",
       "      <td>1</td>\n",
       "      <td>Consumer loans</td>\n",
       "      <td>17145.0</td>\n",
       "      <td>17145.0</td>\n",
       "      <td>Repeater</td>\n",
       "      <td>Cash through the bank</td>\n",
       "      <td>middle</td>\n",
       "    </tr>\n",
       "    <tr>\n",
       "      <th>1</th>\n",
       "      <td>2802425</td>\n",
       "      <td>1</td>\n",
       "      <td>Cash loans</td>\n",
       "      <td>679671.0</td>\n",
       "      <td>607500.0</td>\n",
       "      <td>Repeater</td>\n",
       "      <td>XNA</td>\n",
       "      <td>low_action</td>\n",
       "    </tr>\n",
       "    <tr>\n",
       "      <th>2</th>\n",
       "      <td>2523466</td>\n",
       "      <td>1</td>\n",
       "      <td>Cash loans</td>\n",
       "      <td>136444.5</td>\n",
       "      <td>112500.0</td>\n",
       "      <td>Repeater</td>\n",
       "      <td>Cash through the bank</td>\n",
       "      <td>high</td>\n",
       "    </tr>\n",
       "    <tr>\n",
       "      <th>3</th>\n",
       "      <td>2819243</td>\n",
       "      <td>1</td>\n",
       "      <td>Cash loans</td>\n",
       "      <td>470790.0</td>\n",
       "      <td>450000.0</td>\n",
       "      <td>Repeater</td>\n",
       "      <td>Cash through the bank</td>\n",
       "      <td>middle</td>\n",
       "    </tr>\n",
       "    <tr>\n",
       "      <th>4</th>\n",
       "      <td>1784265</td>\n",
       "      <td>0</td>\n",
       "      <td>Cash loans</td>\n",
       "      <td>404055.0</td>\n",
       "      <td>337500.0</td>\n",
       "      <td>Repeater</td>\n",
       "      <td>Cash through the bank</td>\n",
       "      <td>high</td>\n",
       "    </tr>\n",
       "  </tbody>\n",
       "</table>\n",
       "</div>"
      ],
      "text/plain": [
       "   SK_ID_PREV  NAME_CONTRACT_STATUS NAME_CONTRACT_TYPE  AMT_CREDIT  \\\n",
       "0     2030495                     1     Consumer loans     17145.0   \n",
       "1     2802425                     1         Cash loans    679671.0   \n",
       "2     2523466                     1         Cash loans    136444.5   \n",
       "3     2819243                     1         Cash loans    470790.0   \n",
       "4     1784265                     0         Cash loans    404055.0   \n",
       "\n",
       "   AMT_APPLICATION NAME_CLIENT_TYPE      NAME_PAYMENT_TYPE NAME_YIELD_GROUP  \n",
       "0          17145.0         Repeater  Cash through the bank           middle  \n",
       "1         607500.0         Repeater                    XNA       low_action  \n",
       "2         112500.0         Repeater  Cash through the bank             high  \n",
       "3         450000.0         Repeater  Cash through the bank           middle  \n",
       "4         337500.0         Repeater  Cash through the bank             high  "
      ]
     },
     "execution_count": 62,
     "metadata": {},
     "output_type": "execute_result"
    }
   ],
   "source": [
    "sliced_data['NAME_CONTRACT_STATUS'] = sliced_data['NAME_CONTRACT_STATUS'].apply(lambda x: pd.to_numeric(1 if x == 'Approved' else 0))\n",
    "sliced_data.head()"
   ]
  },
  {
   "cell_type": "markdown",
   "metadata": {},
   "source": [
    "### Check for outliers.\n"
   ]
  },
  {
   "cell_type": "code",
   "execution_count": 63,
   "metadata": {},
   "outputs": [
    {
     "data": {
      "image/png": "[encoded data removed]",
      "text/plain": [
       "<Figure size 2880x576 with 2 Axes>"
      ]
     },
     "metadata": {
      "needs_background": "light"
     },
     "output_type": "display_data"
    }
   ],
   "source": [
    "numeric_columns = ['int64', 'float64']\n",
    "numeric_df = sliced_data.select_dtypes(include=numeric_columns)\n",
    "numeric_df = numeric_df.drop(['SK_ID_PREV', 'NAME_CONTRACT_STATUS'], axis = 1)\n",
    "\n",
    "fig, axes = plt.subplots(1,2,figsize=(40,8))\n",
    "for index, column in enumerate(numeric_df.columns):\n",
    "    ax = axes.flatten()[index]\n",
    "    ax.boxplot(numeric_df[column])\n",
    "    ax.set_xlabel(column)"
   ]
  },
  {
   "cell_type": "markdown",
   "metadata": {},
   "source": [
    "### Outlier detection and treatment.\n",
    "\n",
    "#### Detection:\n",
    "\n",
    "Most commonly used method to detect outliers is visualization. We use various visualization methods, like Box-plot, Histogram, Scatter Plot. Some of the thumb rules to detect outliers are:\n",
    "\n",
    "1. Any value, which is beyond the range of -1.5 x IQR to 1.5 x IQR\n",
    "2. Use capping methods. Any value which out of range of 5th and 95th percentile can be considered as outlier\n",
    "3. Data points, three or more standard deviation away from mean are considered outlier\n",
    "\n",
    "#### Treatment:\n",
    "\n",
    "Most of the ways to deal with outliers are similar to the methods of missing values like deleting observations, transforming them, binning them, treat them as a separate group, imputing values and other statistical methods.\n",
    "\n",
    "some of the common techniques used to deal with outliers:\n",
    "\n",
    "1. Deleting observations: We delete outlier values if it is due to data entry error, data processing error or outlier observations are very small in numbers. We can also use trimming at both ends to remove outliers.\n",
    "\n",
    "2. Transforming and binning values: Transforming variables can also eliminate outliers. Natural log of a value reduces the variation caused by extreme values. Binning is also a form of variable transformation. Decision Tree algorithm allows to deal with outliers well due to binning of variable. We can also use the process of assigning weights to different observations.\n",
    "\n",
    "\n",
    "From the above box plots we can say that below attributes are affected with outliers, \n",
    "\n",
    "1. **AMT_CREDIT**\n",
    "2. **AMT_APPLICATION** \n",
    "\n",
    "these outliers can be treated from one of the suitable steps mentioned above, such as either we can delete extreme values or Natural log of a value reduces the variation caused by extreme values.\n",
    "\n",
    "Treatment approach for below attributes,\n",
    "\n",
    "    1. AMT_CREDIT       - Apply natural log scale for values which can reduce variation.\n",
    "    2. AMT_APPLICATION  - Apply natural log scale for values which can reduce variation.\n"
   ]
  },
  {
   "cell_type": "markdown",
   "metadata": {},
   "source": [
    "## Data Analysis for previous_application.csv\n",
    "\n",
    "We will now start our data analysis on the final data frame we have prepared with selected attributes."
   ]
  },
  {
   "cell_type": "markdown",
   "metadata": {},
   "source": [
    "### Check the imbalance percentage:"
   ]
  },
  {
   "cell_type": "code",
   "execution_count": 64,
   "metadata": {},
   "outputs": [
    {
     "name": "stdout",
     "output_type": "stream",
     "text": [
      "1    63.997\n",
      "0    36.003\n",
      "Name: NAME_CONTRACT_STATUS, dtype: float64\n"
     ]
    },
    {
     "data": {
      "text/plain": [
       "1.78"
      ]
     },
     "execution_count": 64,
     "metadata": {},
     "output_type": "execute_result"
    }
   ],
   "source": [
    "# Use value counts by passing normalize as TRUE to get the relative frequencies of the unique values.\n",
    "print(sliced_data['NAME_CONTRACT_STATUS'].value_counts(normalize=True) * 100)\n",
    "\n",
    "imbalance_percentage = round(63.997/36.003, 2)\n",
    "imbalance_percentage"
   ]
  },
  {
   "cell_type": "markdown",
   "metadata": {},
   "source": [
    "From the above data we can say that the imbalance percentage is coming to around 1.780%. which inturn indicates that client with loan approval rate is 1.78 times more likely compared to other loan status. \n",
    "\n",
    "~67% of the clients have no difficulties in getting loan approved."
   ]
  },
  {
   "cell_type": "markdown",
   "metadata": {},
   "source": [
    "### Divide the data in to two sets (TARGET variable with 0 and 1):"
   ]
  },
  {
   "cell_type": "code",
   "execution_count": 65,
   "metadata": {},
   "outputs": [],
   "source": [
    "# Divide data frame based on TARGET.\n",
    "\n",
    "groupby_df = dict(tuple(sliced_data.groupby('NAME_CONTRACT_STATUS')))\n",
    "df_0 = groupby_df[0]\n",
    "df_1 = groupby_df[1]"
   ]
  },
  {
   "cell_type": "markdown",
   "metadata": {},
   "source": [
    "### Univariate analysis for categorical variables.\n",
    "\n",
    "Selected categorical variables for our analysis,\n",
    "\n",
    "1. **NAME_CONTRACT_TYPE**\n",
    "2. **NAME_PAYMENT_TYPE**\n",
    "3. **NAME_YIELD_GROUP**"
   ]
  },
  {
   "cell_type": "code",
   "execution_count": 66,
   "metadata": {
    "scrolled": false
   },
   "outputs": [
    {
     "data": {
      "image/png": "[encoded data removed]",
      "text/plain": [
       "<Figure size 2880x864 with 2 Axes>"
      ]
     },
     "metadata": {
      "needs_background": "light"
     },
     "output_type": "display_data"
    }
   ],
   "source": [
    "\n",
    "# NAME_CONTRACT_TYPE analysis for TARGET 0 and 1\n",
    "fig, axes = plt.subplots(1,2,figsize=(40,12))\n",
    "\n",
    "def plot_categorical(axis, variable, data_frame, title, x_label, y_label):\n",
    "    data_frame[variable].value_counts().plot(ax=axes[axis], kind='bar')\n",
    "    axes[axis].set_xlabel(x_label)\n",
    "    axes[axis].set_ylabel(y_label)\n",
    "    axes[axis].set_title(title)\n",
    "    \n",
    "plot_categorical(0, 'NAME_CONTRACT_TYPE', df_1, 'Approved Loan type', 'Contract Type', 'Frequency')\n",
    "plot_categorical(1, 'NAME_CONTRACT_TYPE', df_0, 'Non approved loan type', 'Contract Type', 'Frequency')\n"
   ]
  },
  {
   "cell_type": "markdown",
   "metadata": {},
   "source": [
    "### Inferences for loan contract type:\n",
    "\n",
    "It can observed from the above plots that for both the categories of our target variable \n",
    "**Cash loans** and **Consumer loans** tend to have higher contribution than **Revolving loans**.\n",
    "\n",
    "Observation for **Approved loan types**\n",
    "\n",
    "clients have more approved loans for cash loans and consumer loans compared to Revolving loan type.\n"
   ]
  },
  {
   "cell_type": "code",
   "execution_count": 67,
   "metadata": {},
   "outputs": [
    {
     "data": {
      "image/png": "[encoded data removed]",
      "text/plain": [
       "<Figure size 2880x864 with 2 Axes>"
      ]
     },
     "metadata": {
      "needs_background": "light"
     },
     "output_type": "display_data"
    }
   ],
   "source": [
    "\n",
    "# NAME_PAYMENT_TYPE analysis for Target variable.\n",
    "fig, axes = plt.subplots(1,2,figsize=(40,12))\n",
    "\n",
    "def plot_categorical(axis, variable, data_frame, title, x_label, y_label):\n",
    "    data_frame[variable].value_counts().plot(ax=axes[axis], kind='bar')\n",
    "    axes[axis].set_xlabel(x_label)\n",
    "    axes[axis].set_ylabel(y_label)\n",
    "    axes[axis].set_yscale('log')\n",
    "    axes[axis].set_title(title)\n",
    "    \n",
    "\n",
    "plot_categorical(0, 'NAME_PAYMENT_TYPE', df_1, 'Approved Loan type', 'Payment Type', 'Frequency')\n",
    "plot_categorical(1, 'NAME_PAYMENT_TYPE', df_0, 'Non approved loan type', 'Payment Type', 'Frequency')"
   ]
  },
  {
   "cell_type": "markdown",
   "metadata": {},
   "source": [
    "### Inferences for payment type:\n",
    "\n",
    "It can observed from the above plots that for both the categories of our target variable \n",
    "**Cash through the banks**, **XNA** and **Non-cash from your account** tend to have higher contribution than **Cashless from the account of the employer**.\n",
    "\n",
    "Observation for **Approved loan types**\n",
    "\n",
    "clients have more approved loans for **Cash through the banks**, **XNA** and **Non-cash from your account**.\n",
    "\n",
    "Observation for **Non approved loan types**\n",
    "\n",
    "clients have more **rejected/Cancelled** loans for **XNA** and **Non-cash from your account**."
   ]
  },
  {
   "cell_type": "code",
   "execution_count": 68,
   "metadata": {},
   "outputs": [
    {
     "data": {
      "image/png": "[encoded data removed]",
      "text/plain": [
       "<Figure size 2880x864 with 2 Axes>"
      ]
     },
     "metadata": {
      "needs_background": "light"
     },
     "output_type": "display_data"
    }
   ],
   "source": [
    "# NAME_YIELD_GROUP analysis for TARGET 0 and 1\n",
    "fig, axes = plt.subplots(1,2,figsize=(40,12))\n",
    "\n",
    "def plot_categorical(axis, variable, data_frame, title, x_label, y_label):\n",
    "    data_frame[variable].value_counts().plot(ax=axes[axis], kind='bar')\n",
    "    axes[axis].set_xlabel(x_label)\n",
    "    axes[axis].set_ylabel(y_label)\n",
    "    axes[axis].set_yscale('log')\n",
    "    axes[axis].set_title(title)\n",
    "    \n",
    "plot_categorical(0, 'NAME_YIELD_GROUP', df_1, 'Approved Loan type', 'Yield Group', 'Frequency')\n",
    "plot_categorical(1, 'NAME_YIELD_GROUP', df_0, 'Non approved loan type', 'Yield Group', 'Frequency')"
   ]
  },
  {
   "cell_type": "markdown",
   "metadata": {},
   "source": [
    "### Inferences for Name yield group:\n",
    "\n",
    "Observation for **Approved loan types**\n",
    "\n",
    "clients have more percentage of approved loans for **Middle**, **High** and **low_normal**.\n",
    "\n",
    "Observation for **Non approved loan types**\n",
    "\n",
    "clients have more **rejected/Cancelled** loans for **XNA** and **low_normal**."
   ]
  },
  {
   "cell_type": "markdown",
   "metadata": {},
   "source": [
    "### Find the top 10 correlation for the Client with payment difficulties and all other cases (Target variable)"
   ]
  },
  {
   "cell_type": "code",
   "execution_count": 69,
   "metadata": {},
   "outputs": [
    {
     "data": {
      "image/png": "[encoded data removed]",
      "text/plain": [
       "<Figure size 720x576 with 2 Axes>"
      ]
     },
     "metadata": {
      "needs_background": "light"
     },
     "output_type": "display_data"
    }
   ],
   "source": [
    "cor_matrix_df = df.corr()\n",
    "\n",
    "# figure size\n",
    "plt.figure(figsize=(10,8))\n",
    "\n",
    "# heatmap\n",
    "sns.heatmap(cor_matrix_df, cmap=\"Blues\", annot=True)\n",
    "plt.show()"
   ]
  },
  {
   "cell_type": "code",
   "execution_count": 70,
   "metadata": {},
   "outputs": [
    {
     "data": {
      "text/plain": [
       "AMT_APPLICATION  AMT_GOODS_PRICE    0.999862\n",
       "AMT_CREDIT       AMT_GOODS_PRICE    0.993513\n",
       "AMT_APPLICATION  AMT_CREDIT         0.976185\n",
       "AMT_ANNUITY      AMT_GOODS_PRICE    0.821803\n",
       "                 AMT_CREDIT         0.815988\n",
       "                 AMT_APPLICATION    0.809942\n",
       "AMT_GOODS_PRICE  CNT_PAYMENT        0.659484\n",
       "AMT_APPLICATION  CNT_PAYMENT        0.639096\n",
       "AMT_CREDIT       CNT_PAYMENT        0.633221\n",
       "AMT_ANNUITY      CNT_PAYMENT        0.383979\n",
       "dtype: float64"
      ]
     },
     "execution_count": 70,
     "metadata": {},
     "output_type": "execute_result"
    }
   ],
   "source": [
    "# Top 10 correlated attributes.\n",
    "\n",
    "sol = (cor_matrix_df.where(np.triu(np.ones(cor_matrix_df.shape), k=1).astype(np.bool))\n",
    "                 .stack()\n",
    "                 .sort_values(ascending=False))\n",
    "sol[:10]"
   ]
  },
  {
   "cell_type": "markdown",
   "metadata": {},
   "source": [
    "### Top 10 correlated variables:\n",
    "\n",
    "    1.  AMT_APPLICATION  AMT_GOODS_PRICE    0.999862\n",
    "    2.  AMT_CREDIT       AMT_GOODS_PRICE    0.993513\n",
    "    3.  AMT_APPLICATION  AMT_CREDIT         0.976185\n",
    "    4.  AMT_ANNUITY      AMT_GOODS_PRICE    0.821803\n",
    "    5.  AMT_ANNUITY      AMT_CREDIT         0.815988\n",
    "    6.  AMT_ANNUITY      AMT_APPLICATION    0.809942\n",
    "    7.  AMT_GOODS_PRICE  CNT_PAYMENT        0.659484\n",
    "    8.  AMT_APPLICATION  CNT_PAYMENT        0.639096\n",
    "    9.  AMT_CREDIT       CNT_PAYMENT        0.633221\n",
    "    10. AMT_ANNUITY      CNT_PAYMENT        0.383979\n",
    "\n",
    "\n",
    "So from the above data we can see **AMT_APPLICATION** and **AMT_GOODS_PRICE** is highly correlated.\n",
    "which is followed by **AMT_CREDIT** and **AMT_GOODS_PRICE** and so on as shown in above list."
   ]
  },
  {
   "cell_type": "markdown",
   "metadata": {},
   "source": [
    "### Find Correlation  for selected numeric variables."
   ]
  },
  {
   "cell_type": "code",
   "execution_count": 71,
   "metadata": {},
   "outputs": [
    {
     "data": {
      "text/html": [
       "<div>\n",
       "<style scoped>\n",
       "    .dataframe tbody tr th:only-of-type {\n",
       "        vertical-align: middle;\n",
       "    }\n",
       "\n",
       "    .dataframe tbody tr th {\n",
       "        vertical-align: top;\n",
       "    }\n",
       "\n",
       "    .dataframe thead th {\n",
       "        text-align: right;\n",
       "    }\n",
       "</style>\n",
       "<table border=\"1\" class=\"dataframe\">\n",
       "  <thead>\n",
       "    <tr style=\"text-align: right;\">\n",
       "      <th></th>\n",
       "      <th>SK_ID_PREV</th>\n",
       "      <th>NAME_CONTRACT_STATUS</th>\n",
       "      <th>AMT_CREDIT</th>\n",
       "      <th>AMT_APPLICATION</th>\n",
       "    </tr>\n",
       "  </thead>\n",
       "  <tbody>\n",
       "    <tr>\n",
       "      <th>SK_ID_PREV</th>\n",
       "      <td>1.000000</td>\n",
       "      <td>NaN</td>\n",
       "      <td>0.005490</td>\n",
       "      <td>0.004739</td>\n",
       "    </tr>\n",
       "    <tr>\n",
       "      <th>NAME_CONTRACT_STATUS</th>\n",
       "      <td>NaN</td>\n",
       "      <td>NaN</td>\n",
       "      <td>NaN</td>\n",
       "      <td>NaN</td>\n",
       "    </tr>\n",
       "    <tr>\n",
       "      <th>AMT_CREDIT</th>\n",
       "      <td>0.005490</td>\n",
       "      <td>NaN</td>\n",
       "      <td>1.000000</td>\n",
       "      <td>0.987714</td>\n",
       "    </tr>\n",
       "    <tr>\n",
       "      <th>AMT_APPLICATION</th>\n",
       "      <td>0.004739</td>\n",
       "      <td>NaN</td>\n",
       "      <td>0.987714</td>\n",
       "      <td>1.000000</td>\n",
       "    </tr>\n",
       "  </tbody>\n",
       "</table>\n",
       "</div>"
      ],
      "text/plain": [
       "                      SK_ID_PREV  NAME_CONTRACT_STATUS  AMT_CREDIT  \\\n",
       "SK_ID_PREV              1.000000                   NaN    0.005490   \n",
       "NAME_CONTRACT_STATUS         NaN                   NaN         NaN   \n",
       "AMT_CREDIT              0.005490                   NaN    1.000000   \n",
       "AMT_APPLICATION         0.004739                   NaN    0.987714   \n",
       "\n",
       "                      AMT_APPLICATION  \n",
       "SK_ID_PREV                   0.004739  \n",
       "NAME_CONTRACT_STATUS              NaN  \n",
       "AMT_CREDIT                   0.987714  \n",
       "AMT_APPLICATION              1.000000  "
      ]
     },
     "execution_count": 71,
     "metadata": {},
     "output_type": "execute_result"
    }
   ],
   "source": [
    "numeric_columns = ['int64', 'float64']\n",
    "numeric_df_0 = df_0.select_dtypes(include=numeric_columns)\n",
    "\n",
    "# Find correlation.\n",
    "corr_matrix_0 = numeric_df_0.corr()\n",
    "corr_matrix_0"
   ]
  },
  {
   "cell_type": "code",
   "execution_count": 72,
   "metadata": {},
   "outputs": [
    {
     "data": {
      "image/png": "[encoded data removed]",
      "text/plain": [
       "<Figure size 720x576 with 2 Axes>"
      ]
     },
     "metadata": {
      "needs_background": "light"
     },
     "output_type": "display_data"
    }
   ],
   "source": [
    "# figure size\n",
    "plt.figure(figsize=(10,8))\n",
    "\n",
    "# heatmap\n",
    "sns.heatmap(corr_matrix_0, cmap=\"Blues\", annot=True)\n",
    "plt.show()"
   ]
  },
  {
   "cell_type": "code",
   "execution_count": 73,
   "metadata": {},
   "outputs": [
    {
     "data": {
      "text/html": [
       "<div>\n",
       "<style scoped>\n",
       "    .dataframe tbody tr th:only-of-type {\n",
       "        vertical-align: middle;\n",
       "    }\n",
       "\n",
       "    .dataframe tbody tr th {\n",
       "        vertical-align: top;\n",
       "    }\n",
       "\n",
       "    .dataframe thead th {\n",
       "        text-align: right;\n",
       "    }\n",
       "</style>\n",
       "<table border=\"1\" class=\"dataframe\">\n",
       "  <thead>\n",
       "    <tr style=\"text-align: right;\">\n",
       "      <th></th>\n",
       "      <th>SK_ID_PREV</th>\n",
       "      <th>NAME_CONTRACT_STATUS</th>\n",
       "      <th>AMT_CREDIT</th>\n",
       "      <th>AMT_APPLICATION</th>\n",
       "    </tr>\n",
       "  </thead>\n",
       "  <tbody>\n",
       "    <tr>\n",
       "      <th>SK_ID_PREV</th>\n",
       "      <td>1.000000</td>\n",
       "      <td>NaN</td>\n",
       "      <td>0.003076</td>\n",
       "      <td>0.001429</td>\n",
       "    </tr>\n",
       "    <tr>\n",
       "      <th>NAME_CONTRACT_STATUS</th>\n",
       "      <td>NaN</td>\n",
       "      <td>NaN</td>\n",
       "      <td>NaN</td>\n",
       "      <td>NaN</td>\n",
       "    </tr>\n",
       "    <tr>\n",
       "      <th>AMT_CREDIT</th>\n",
       "      <td>0.003076</td>\n",
       "      <td>NaN</td>\n",
       "      <td>1.000000</td>\n",
       "      <td>0.963856</td>\n",
       "    </tr>\n",
       "    <tr>\n",
       "      <th>AMT_APPLICATION</th>\n",
       "      <td>0.001429</td>\n",
       "      <td>NaN</td>\n",
       "      <td>0.963856</td>\n",
       "      <td>1.000000</td>\n",
       "    </tr>\n",
       "  </tbody>\n",
       "</table>\n",
       "</div>"
      ],
      "text/plain": [
       "                      SK_ID_PREV  NAME_CONTRACT_STATUS  AMT_CREDIT  \\\n",
       "SK_ID_PREV              1.000000                   NaN    0.003076   \n",
       "NAME_CONTRACT_STATUS         NaN                   NaN         NaN   \n",
       "AMT_CREDIT              0.003076                   NaN    1.000000   \n",
       "AMT_APPLICATION         0.001429                   NaN    0.963856   \n",
       "\n",
       "                      AMT_APPLICATION  \n",
       "SK_ID_PREV                   0.001429  \n",
       "NAME_CONTRACT_STATUS              NaN  \n",
       "AMT_CREDIT                   0.963856  \n",
       "AMT_APPLICATION              1.000000  "
      ]
     },
     "execution_count": 73,
     "metadata": {},
     "output_type": "execute_result"
    }
   ],
   "source": [
    "numeric_columns = ['int64', 'float64']\n",
    "numeric_df_1 = df_1.select_dtypes(include=numeric_columns)\n",
    "\n",
    "# Find correlation.\n",
    "corr_matrix_1 = numeric_df_1.corr()\n",
    "corr_matrix_1"
   ]
  },
  {
   "cell_type": "code",
   "execution_count": 74,
   "metadata": {},
   "outputs": [
    {
     "data": {
      "image/png": "[encoded data removed]",
      "text/plain": [
       "<Figure size 720x576 with 2 Axes>"
      ]
     },
     "metadata": {
      "needs_background": "light"
     },
     "output_type": "display_data"
    }
   ],
   "source": [
    "# figure size\n",
    "plt.figure(figsize=(10,8))\n",
    "\n",
    "# heatmap\n",
    "sns.heatmap(corr_matrix_1, cmap=\"Blues\", annot=True)\n",
    "plt.show()"
   ]
  },
  {
   "cell_type": "markdown",
   "metadata": {},
   "source": [
    "### Inferences from above data for approved Loan case:\n",
    "\n",
    "* AMT_CREDIT and AMT_APPLICATION are the variables with highest correlation with 0.96."
   ]
  },
  {
   "cell_type": "markdown",
   "metadata": {},
   "source": [
    "### Univariate analysis for Numerical variables.\n",
    "\n",
    "Selected categorical variables for our analysis,\n",
    "\n",
    "1. **AMT_APPLICATION**\n",
    "2. **AMT_CREDIT**"
   ]
  },
  {
   "cell_type": "code",
   "execution_count": 75,
   "metadata": {},
   "outputs": [
    {
     "data": {
      "image/png": "[encoded data removed]",
      "text/plain": [
       "<Figure size 2880x864 with 2 Axes>"
      ]
     },
     "metadata": {
      "needs_background": "light"
     },
     "output_type": "display_data"
    }
   ],
   "source": [
    "# AMT_APPLICATION analysis for Target variable.\n",
    "fig, axes = plt.subplots(1,2,figsize=(40,12))\n",
    "\n",
    "def plot_numerical(axis, variable, data_frame, title, x_label, y_label):\n",
    "    data_frame[variable].plot(ax=axes[axis], kind='hist', bins=50)\n",
    "    axes[axis].set_xlabel(x_label)\n",
    "    axes[axis].set_ylabel(y_label)\n",
    "    axes[axis].set_yscale('log')\n",
    "    axes[axis].set_title(title)\n",
    "    \n",
    "plot_numerical(0, 'AMT_APPLICATION', df_1, 'Approved Loan type', 'Application amount', 'Frequency')\n",
    "plot_numerical(1, 'AMT_APPLICATION', df_0, 'Non approved loan type', 'Application amount', 'Frequency')"
   ]
  },
  {
   "cell_type": "markdown",
   "metadata": {},
   "source": [
    "### Bivariate analysis for Numerical variables.\n",
    "\n",
    "Selected numerical variables for our analysis,\n",
    "\n",
    "1. **AMT_APPLICATION** and **AMT_CREDIT**"
   ]
  },
  {
   "cell_type": "code",
   "execution_count": 77,
   "metadata": {
    "scrolled": true
   },
   "outputs": [
    {
     "data": {
      "image/png": "[encoded data removed]",
      "text/plain": [
       "<Figure size 2880x720 with 2 Axes>"
      ]
     },
     "metadata": {
      "needs_background": "light"
     },
     "output_type": "display_data"
    }
   ],
   "source": [
    "# Plot data.\n",
    "fig, axes = plt.subplots(1,2,figsize=(40,10))\n",
    "\n",
    "def plot_bivariate(axis, variable1, variable2, data_frame, title, x_label, y_label):\n",
    "    axes[axis].scatter(data_frame[variable1], data_frame[variable2])\n",
    "    axes[axis].set_xlabel(x_label)\n",
    "    axes[axis].set_ylabel(y_label)\n",
    "    axes[axis].set_yscale('log')\n",
    "    axes[axis].set_xscale('log')\n",
    "    axes[axis].set_title(title)\n",
    "\n",
    "plot_bivariate(0, 'AMT_APPLICATION', 'AMT_CREDIT', df_1, 'Approved Loan type', 'Application amount', 'Credit')\n",
    "plot_bivariate(1, 'AMT_APPLICATION', 'AMT_CREDIT', df_0, 'Non approved loan type', 'Application amount', 'Credit')"
   ]
  },
  {
   "cell_type": "markdown",
   "metadata": {},
   "source": [
    "### Inferences from above plot:\n",
    "\n",
    "From the above plot we can observe the following,\n",
    "\n",
    "1. There seems to be positive correlation between between variables(0.96 corelation) - Amount credit and Amount application.\n",
    "2. So if credit the client asked on the previous application is more then final credit amount on the previous application has increased.\n"
   ]
  },
  {
   "cell_type": "markdown",
   "metadata": {},
   "source": [
    "## Observations : final inferences from the analysis of 'previous_application.csv':"
   ]
  },
  {
   "cell_type": "markdown",
   "metadata": {},
   "source": [
    "\n",
    "#### Select attributes(features - independant variables) for our analysis.\n",
    "\n",
    "We can consider below attributes(independant variables) for our analysis on how these impact our 'TARGET' variable, Also at the end of this first set of analysis we will put our observations on how some of these variables impact the Loan contract status. This can be finally used to predict probable defaults.\n",
    "\n",
    "TARGET variable - **NAME_CONTRACT_STATUS - Contract status (approved, cancelled, ...) of previous application**\n",
    "\n",
    "    1. NAME_CONTRACT_TYPE  - Contract product type (Cash loan, consumer loan [POS] ,...)\n",
    "    2. AMT_CREDIT          - Final credit amount on the previous application.\n",
    "    3. AMT_APPLICATION     - how much credit did client ask on the previous application.\n",
    "    3. NAME_CLIENT_TYPE    - Was the client old or new client when applying for the previous application.\n",
    "    4. NAME_PAYMENT_TYPE   - Payment method that client chose to pay for the previous application.\n",
    "    5. NAME_YIELD_GROUP    - Grouped interest rate into small medium and high of the previous application\n",
    "    6. AMT_ANNUITY         - Annuity of previous application\n",
    "\n",
    "\n",
    "### Inferences for loan contract type:\n",
    "\n",
    "It can observed from the above plots that for both the categories of our target variable \n",
    "**Cash loans** and **Consumer loans** tend to have higher contribution than **Revolving loans**.\n",
    "\n",
    "Observation for **Approved loan types**\n",
    "\n",
    "clients have more approved loans for cash loans and consumer loans compared to Revolving loan type.\n",
    "\n",
    "\n",
    "\n",
    "### Inferences for payment type:\n",
    "\n",
    "It can observed from the above plots that for both the categories of our target variable \n",
    "**Cash through the banks**, **XNA** and **Non-cash from your account** tend to have higher contribution than **Cashless from the account of the employer**.\n",
    "\n",
    "Observation for **Approved loan types**\n",
    "\n",
    "clients have more approved loans for **Cash through the banks**, **XNA** and **Non-cash from your account**.\n",
    "\n",
    "Observation for **Non approved loan types**\n",
    "\n",
    "clients have more **rejected/Cancelled** loans for **XNA** and **Non-cash from your account**.\n",
    "\n",
    "\n",
    "### Inferences for Name yield group:\n",
    "\n",
    "Observation for **Approved loan types**\n",
    "\n",
    "clients have more percentage of approved loans for **Middle**, **High** and **low_normal**.\n",
    "\n",
    "Observation for **Non approved loan types**\n",
    "\n",
    "clients have more **rejected/Cancelled** loans for **XNA** and **low_normal**.\n",
    "\n",
    "\n",
    "### Top 10 correlated variables:\n",
    "\n",
    "    1.  AMT_APPLICATION  AMT_GOODS_PRICE    0.999862\n",
    "    2.  AMT_CREDIT       AMT_GOODS_PRICE    0.993513\n",
    "    3.  AMT_APPLICATION  AMT_CREDIT         0.976185\n",
    "    4.  AMT_ANNUITY      AMT_GOODS_PRICE    0.821803\n",
    "    5.  AMT_ANNUITY      AMT_CREDIT         0.815988\n",
    "    6.  AMT_ANNUITY      AMT_APPLICATION    0.809942\n",
    "    7.  AMT_GOODS_PRICE  CNT_PAYMENT        0.659484\n",
    "    8.  AMT_APPLICATION  CNT_PAYMENT        0.639096\n",
    "    9.  AMT_CREDIT       CNT_PAYMENT        0.633221\n",
    "    10. AMT_ANNUITY      CNT_PAYMENT        0.383979\n",
    "\n",
    "\n",
    "So from the above data we can see **AMT_APPLICATION** and **AMT_GOODS_PRICE** is highly correlated.\n",
    "which is followed by **AMT_CREDIT** and **AMT_GOODS_PRICE** and so on as shown in above list."
   ]
  },
  {
   "cell_type": "markdown",
   "metadata": {},
   "source": [
    "## --------------- Final inferences on driving factors (or driver variables) behind loan default."
   ]
  },
  {
   "cell_type": "markdown",
   "metadata": {},
   "source": [
    "### We will produce our final inferences on all the analyszed variables which can be driver factors for a probable loan default.\n",
    "\n",
    "#### Infernces from Data set 1 - **application_data.csv**\n",
    "\n",
    "1. Clients with **Cash loans** contract type has very less chance of being loan default.\n",
    "2. On the other hand clients with **Revolving loans** has more likely to become default relatively.\n",
    "3. clients are more likely to not become loan default for education categories such as **Secondary and Higher education.**\n",
    "4. clients are more likely to not to become defaulter for very high, high and medium income slabs\n",
    "5. On the other hand clients with low income slabs have higher probability of becoming a loan default.\n",
    "\n",
    "Inferences from Bivariate analysis - Amount Credit and Amount Income in Total:\n",
    "\n",
    "1. There seems to be positive correlation between between variables - Income total and Amount credit.\n",
    "2. So if Total income increases then there is possible chance to increase the credit amount of the loan \n",
    "\n",
    "thus probability of client becoming loan defaulter with lesser income is very high - so we can consider clients with low income as probable defaults.\n",
    "\n",
    "\n",
    "#### Infernces from Data set 2 - **previous_application.csv**\n",
    "\n",
    "1. Clients with **Cash loans** and **Consumer loans** contract type has very less chance of being loan default.\n",
    "2. On the other hand clients with **Revolving loans** has more likely to become default relatively.\n",
    "3. Clients have less probability of turning to defaulter for payment types - Cash through the banks and XNA.\n",
    "4. Clients with payment type Non-cash from your account has more chances of being defaulter.\n",
    "5. clients have more percentage of approved loans for Middle, High and low_normal, which indicates less proabaility of being default.\n",
    "6. **AMT_APPLICATION** and **AMT_GOODS_PRICE** is highly correlated which indicates increase in one for increase in other."
   ]
  }
 ],
 "metadata": {
  "kernelspec": {
   "display_name": "Python 3",
   "language": "python",
   "name": "python3"
  },
  "language_info": {
   "codemirror_mode": {
    "name": "ipython",
    "version": 3
   },
   "file_extension": ".py",
   "mimetype": "text/x-python",
   "name": "python",
   "nbconvert_exporter": "python",
   "pygments_lexer": "ipython3",
   "version": "3.7.1"
  }
 },
 "nbformat": 4,
 "nbformat_minor": 2
}
